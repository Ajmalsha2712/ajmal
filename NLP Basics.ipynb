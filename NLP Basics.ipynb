{
 "cells": [
  {
   "cell_type": "code",
   "execution_count": 13,
   "id": "d6c96d69-7db8-405a-9b23-7e0dcf755453",
   "metadata": {},
   "outputs": [],
   "source": [
    "import nltk"
   ]
  },
  {
   "cell_type": "code",
   "execution_count": 15,
   "id": "4aefad28-a154-4ff3-aa7f-cfbc281d26e5",
   "metadata": {},
   "outputs": [
    {
     "name": "stderr",
     "output_type": "stream",
     "text": [
      "[nltk_data] Downloading package punkt to\n",
      "[nltk_data]     C:\\Users\\Ajmalsha2712\\AppData\\Roaming\\nltk_data...\n",
      "[nltk_data]   Package punkt is already up-to-date!\n"
     ]
    },
    {
     "data": {
      "text/plain": [
       "True"
      ]
     },
     "execution_count": 15,
     "metadata": {},
     "output_type": "execute_result"
    }
   ],
   "source": [
    "nltk.download('punkt')\n"
   ]
  },
  {
   "cell_type": "code",
   "execution_count": 16,
   "id": "3aed25b5-86f8-4844-8a76-b0a8adcc9ace",
   "metadata": {},
   "outputs": [],
   "source": [
    "text='''In this study, we focus on classifying weather into different categories such as sunny, cloudy, rainy, and snowy, using machine learning models. The classification is based on a dataset that includes key meteorological indicators such as temperature, humidity, wind speed, atmospheric pressure, and precipitation. Several machine learning algorithms, including Logistic Regression, K-Nearest Neighbor (KNN), Support Vector Machine (SVM), and Decision Tree, are employed to evaluate their effectiveness in weather classification.'''\n",
    "\n",
    "sent=nltk.sent_tokenize(text)"
   ]
  },
  {
   "cell_type": "code",
   "execution_count": 17,
   "id": "789ea106-0d6c-4300-aede-b3b298ddc42b",
   "metadata": {},
   "outputs": [
    {
     "data": {
      "text/plain": [
       "['In this study, we focus on classifying weather into different categories such as sunny, cloudy, rainy, and snowy, using machine learning models.',\n",
       " 'The classification is based on a dataset that includes key meteorological indicators such as temperature, humidity, wind speed, atmospheric pressure, and precipitation.',\n",
       " 'Several machine learning algorithms, including Logistic Regression, K-Nearest Neighbor (KNN), Support Vector Machine (SVM), and Decision Tree, are employed to evaluate their effectiveness in weather classification.']"
      ]
     },
     "execution_count": 17,
     "metadata": {},
     "output_type": "execute_result"
    }
   ],
   "source": [
    "sent"
   ]
  },
  {
   "cell_type": "code",
   "execution_count": 21,
   "id": "92fe3149-16af-410c-b984-9b36b71afc78",
   "metadata": {},
   "outputs": [],
   "source": [
    "words=nltk.word_tokenize(text)"
   ]
  },
  {
   "cell_type": "code",
   "execution_count": 23,
   "id": "853fcd15-f183-4781-95d0-301d207fc108",
   "metadata": {
    "scrolled": true
   },
   "outputs": [
    {
     "data": {
      "text/plain": [
       "['In',\n",
       " 'this',\n",
       " 'study',\n",
       " ',',\n",
       " 'we',\n",
       " 'focus',\n",
       " 'on',\n",
       " 'classifying',\n",
       " 'weather',\n",
       " 'into',\n",
       " 'different',\n",
       " 'categories',\n",
       " 'such',\n",
       " 'as',\n",
       " 'sunny',\n",
       " ',',\n",
       " 'cloudy',\n",
       " ',',\n",
       " 'rainy',\n",
       " ',',\n",
       " 'and',\n",
       " 'snowy',\n",
       " ',',\n",
       " 'using',\n",
       " 'machine',\n",
       " 'learning',\n",
       " 'models',\n",
       " '.',\n",
       " 'The',\n",
       " 'classification',\n",
       " 'is',\n",
       " 'based',\n",
       " 'on',\n",
       " 'a',\n",
       " 'dataset',\n",
       " 'that',\n",
       " 'includes',\n",
       " 'key',\n",
       " 'meteorological',\n",
       " 'indicators',\n",
       " 'such',\n",
       " 'as',\n",
       " 'temperature',\n",
       " ',',\n",
       " 'humidity',\n",
       " ',',\n",
       " 'wind',\n",
       " 'speed',\n",
       " ',',\n",
       " 'atmospheric',\n",
       " 'pressure',\n",
       " ',',\n",
       " 'and',\n",
       " 'precipitation',\n",
       " '.',\n",
       " 'Several',\n",
       " 'machine',\n",
       " 'learning',\n",
       " 'algorithms',\n",
       " ',',\n",
       " 'including',\n",
       " 'Logistic',\n",
       " 'Regression',\n",
       " ',',\n",
       " 'K-Nearest',\n",
       " 'Neighbor',\n",
       " '(',\n",
       " 'KNN',\n",
       " ')',\n",
       " ',',\n",
       " 'Support',\n",
       " 'Vector',\n",
       " 'Machine',\n",
       " '(',\n",
       " 'SVM',\n",
       " ')',\n",
       " ',',\n",
       " 'and',\n",
       " 'Decision',\n",
       " 'Tree',\n",
       " ',',\n",
       " 'are',\n",
       " 'employed',\n",
       " 'to',\n",
       " 'evaluate',\n",
       " 'their',\n",
       " 'effectiveness',\n",
       " 'in',\n",
       " 'weather',\n",
       " 'classification',\n",
       " '.']"
      ]
     },
     "execution_count": 23,
     "metadata": {},
     "output_type": "execute_result"
    }
   ],
   "source": [
    "words"
   ]
  },
  {
   "cell_type": "code",
   "execution_count": 25,
   "id": "b5916f92-d420-41b3-b5a7-2e1f55795564",
   "metadata": {},
   "outputs": [],
   "source": [
    "import re\n",
    "text = '''In this study, we focus on classifying weather into different categories such as sunny, cloudy, rainy, and snowy, using machine learning models. The classification is based on a dataset that includes key meteorological indicators such as temperature, humidity, wind speed, atmospheric pressure, and precipitation. Several machine learning algorithms, including Logistic Regression, K-Nearest Neighbor (KNN), Support Vector Machine (SVM), and Decision Tree, are employed to evaluate their effectiveness in weather classification.'''"
   ]
  },
  {
   "cell_type": "code",
   "execution_count": 27,
   "id": "c7b3d013-5056-4bbf-a70f-249fa206e64d",
   "metadata": {},
   "outputs": [
    {
     "name": "stdout",
     "output_type": "stream",
     "text": [
      "In this study  we focus on classifying weather into different categories such as sunny  cloudy  rainy  and snowy  using machine learning models  The classification is based on a dataset that includes key meteorological indicators such as temperature  humidity  wind speed  atmospheric pressure  and precipitation  Several machine learning algorithms  including Logistic Regression  K Nearest Neighbor  KNN   Support Vector Machine  SVM   and Decision Tree  are employed to evaluate their effectiveness in weather classification \n"
     ]
    }
   ],
   "source": [
    "clean_text = re.sub(r'[^a-zA-Z]',' ', text)\n",
    "print(clean_text)"
   ]
  },
  {
   "cell_type": "code",
   "execution_count": 29,
   "id": "c39dffde-62f2-4361-9a0e-e938599d1427",
   "metadata": {},
   "outputs": [
    {
     "data": {
      "text/plain": [
       "'In this study we focus on classifying weather into different categories such as sunny cloudy rainy and snowy using machine learning models The classification is based on a dataset that includes key meteorological indicators such as temperature humidity wind speed atmospheric pressure and precipitation Several machine learning algorithms including Logistic Regression K Nearest Neighbor KNN Support Vector Machine SVM and Decision Tree are employed to evaluate their effectiveness in weather classification '"
      ]
     },
     "execution_count": 29,
     "metadata": {},
     "output_type": "execute_result"
    }
   ],
   "source": [
    "import re\n",
    "space=re.sub(r'\\s+',' ',clean_text)\n",
    "space"
   ]
  },
  {
   "cell_type": "markdown",
   "id": "ff19ac03-ed63-454d-af9f-1ade3be2f6b0",
   "metadata": {},
   "source": [
    "# Stemming"
   ]
  },
  {
   "cell_type": "code",
   "execution_count": 32,
   "id": "a8ec9999-3182-4159-b8e5-82be3ebd0a33",
   "metadata": {},
   "outputs": [
    {
     "data": {
      "text/plain": [
       "['i',\n",
       " 'me',\n",
       " 'my',\n",
       " 'myself',\n",
       " 'we',\n",
       " 'our',\n",
       " 'ours',\n",
       " 'ourselves',\n",
       " 'you',\n",
       " \"you're\",\n",
       " \"you've\",\n",
       " \"you'll\",\n",
       " \"you'd\",\n",
       " 'your',\n",
       " 'yours',\n",
       " 'yourself',\n",
       " 'yourselves',\n",
       " 'he',\n",
       " 'him',\n",
       " 'his',\n",
       " 'himself',\n",
       " 'she',\n",
       " \"she's\",\n",
       " 'her',\n",
       " 'hers',\n",
       " 'herself',\n",
       " 'it',\n",
       " \"it's\",\n",
       " 'its',\n",
       " 'itself',\n",
       " 'they',\n",
       " 'them',\n",
       " 'their',\n",
       " 'theirs',\n",
       " 'themselves',\n",
       " 'what',\n",
       " 'which',\n",
       " 'who',\n",
       " 'whom',\n",
       " 'this',\n",
       " 'that',\n",
       " \"that'll\",\n",
       " 'these',\n",
       " 'those',\n",
       " 'am',\n",
       " 'is',\n",
       " 'are',\n",
       " 'was',\n",
       " 'were',\n",
       " 'be',\n",
       " 'been',\n",
       " 'being',\n",
       " 'have',\n",
       " 'has',\n",
       " 'had',\n",
       " 'having',\n",
       " 'do',\n",
       " 'does',\n",
       " 'did',\n",
       " 'doing',\n",
       " 'a',\n",
       " 'an',\n",
       " 'the',\n",
       " 'and',\n",
       " 'but',\n",
       " 'if',\n",
       " 'or',\n",
       " 'because',\n",
       " 'as',\n",
       " 'until',\n",
       " 'while',\n",
       " 'of',\n",
       " 'at',\n",
       " 'by',\n",
       " 'for',\n",
       " 'with',\n",
       " 'about',\n",
       " 'against',\n",
       " 'between',\n",
       " 'into',\n",
       " 'through',\n",
       " 'during',\n",
       " 'before',\n",
       " 'after',\n",
       " 'above',\n",
       " 'below',\n",
       " 'to',\n",
       " 'from',\n",
       " 'up',\n",
       " 'down',\n",
       " 'in',\n",
       " 'out',\n",
       " 'on',\n",
       " 'off',\n",
       " 'over',\n",
       " 'under',\n",
       " 'again',\n",
       " 'further',\n",
       " 'then',\n",
       " 'once',\n",
       " 'here',\n",
       " 'there',\n",
       " 'when',\n",
       " 'where',\n",
       " 'why',\n",
       " 'how',\n",
       " 'all',\n",
       " 'any',\n",
       " 'both',\n",
       " 'each',\n",
       " 'few',\n",
       " 'more',\n",
       " 'most',\n",
       " 'other',\n",
       " 'some',\n",
       " 'such',\n",
       " 'no',\n",
       " 'nor',\n",
       " 'not',\n",
       " 'only',\n",
       " 'own',\n",
       " 'same',\n",
       " 'so',\n",
       " 'than',\n",
       " 'too',\n",
       " 'very',\n",
       " 's',\n",
       " 't',\n",
       " 'can',\n",
       " 'will',\n",
       " 'just',\n",
       " 'don',\n",
       " \"don't\",\n",
       " 'should',\n",
       " \"should've\",\n",
       " 'now',\n",
       " 'd',\n",
       " 'll',\n",
       " 'm',\n",
       " 'o',\n",
       " 're',\n",
       " 've',\n",
       " 'y',\n",
       " 'ain',\n",
       " 'aren',\n",
       " \"aren't\",\n",
       " 'couldn',\n",
       " \"couldn't\",\n",
       " 'didn',\n",
       " \"didn't\",\n",
       " 'doesn',\n",
       " \"doesn't\",\n",
       " 'hadn',\n",
       " \"hadn't\",\n",
       " 'hasn',\n",
       " \"hasn't\",\n",
       " 'haven',\n",
       " \"haven't\",\n",
       " 'isn',\n",
       " \"isn't\",\n",
       " 'ma',\n",
       " 'mightn',\n",
       " \"mightn't\",\n",
       " 'mustn',\n",
       " \"mustn't\",\n",
       " 'needn',\n",
       " \"needn't\",\n",
       " 'shan',\n",
       " \"shan't\",\n",
       " 'shouldn',\n",
       " \"shouldn't\",\n",
       " 'wasn',\n",
       " \"wasn't\",\n",
       " 'weren',\n",
       " \"weren't\",\n",
       " 'won',\n",
       " \"won't\",\n",
       " 'wouldn',\n",
       " \"wouldn't\"]"
      ]
     },
     "execution_count": 32,
     "metadata": {},
     "output_type": "execute_result"
    }
   ],
   "source": [
    "from nltk.corpus import stopwords\n",
    "stopwords.words('english')"
   ]
  },
  {
   "cell_type": "code",
   "execution_count": 34,
   "id": "7fb6d48d-5606-425a-b416-869fc5b21d27",
   "metadata": {},
   "outputs": [
    {
     "data": {
      "text/plain": [
       "'in this study, we focus on classifying weather into different categories such as sunny, cloudy, rainy, and snowy, using machine learning models. the classification is based on a dataset that includes key meteorological indicators such as temperature, humidity, wind speed, atmospheric pressure, and precipitation. several machine learning algorithms, including logistic regression, k-nearest neighbor (knn), support vector machine (svm), and decision tree, are employed to evaluate their effectiveness in weather classification.'"
      ]
     },
     "execution_count": 34,
     "metadata": {},
     "output_type": "execute_result"
    }
   ],
   "source": [
    "text=text.lower()\n",
    "text"
   ]
  },
  {
   "cell_type": "code",
   "execution_count": 36,
   "id": "dd1f641f-e561-4bc5-b219-f5a5c70c5300",
   "metadata": {},
   "outputs": [
    {
     "name": "stdout",
     "output_type": "stream",
     "text": [
      "Requirement already satisfied: nltk in c:\\users\\ajmalsha2712\\anaconda3\\lib\\site-packages (3.8.1)\n",
      "Requirement already satisfied: click in c:\\users\\ajmalsha2712\\anaconda3\\lib\\site-packages (from nltk) (8.1.7)\n",
      "Requirement already satisfied: joblib in c:\\users\\ajmalsha2712\\anaconda3\\lib\\site-packages (from nltk) (1.2.0)\n",
      "Requirement already satisfied: regex>=2021.8.3 in c:\\users\\ajmalsha2712\\anaconda3\\lib\\site-packages (from nltk) (2023.10.3)\n",
      "Requirement already satisfied: tqdm in c:\\users\\ajmalsha2712\\anaconda3\\lib\\site-packages (from nltk) (4.65.0)\n",
      "Requirement already satisfied: colorama in c:\\users\\ajmalsha2712\\anaconda3\\lib\\site-packages (from click->nltk) (0.4.6)\n"
     ]
    }
   ],
   "source": [
    "!pip install nltk"
   ]
  },
  {
   "cell_type": "code",
   "execution_count": 37,
   "id": "03261ce6-1d41-484a-8eec-065c1a29e36c",
   "metadata": {},
   "outputs": [],
   "source": [
    "from nltk.stem import PorterStemmer"
   ]
  },
  {
   "cell_type": "code",
   "execution_count": 38,
   "id": "575333cc-57ec-4b85-bc7c-7a9f7f54417e",
   "metadata": {},
   "outputs": [],
   "source": [
    "stemmer=PorterStemmer()\n",
    "# stemming\n",
    "for i in range(len(sent)):\n",
    "    words=nltk.word_tokenize(sent[i])\n",
    "    words=[stemmer.stem(word) for word in words if word not in set(stopwords.words('english'))]\n",
    "    sent[i]=' '.join(words)"
   ]
  },
  {
   "cell_type": "code",
   "execution_count": 39,
   "id": "fae56b87-ae56-4a72-8967-896cde924d94",
   "metadata": {},
   "outputs": [
    {
     "data": {
      "text/plain": [
       "['in studi , focu classifi weather differ categori sunni , cloudi , raini , snowi , use machin learn model .',\n",
       " 'the classif base dataset includ key meteorolog indic temperatur , humid , wind speed , atmospher pressur , precipit .',\n",
       " 'sever machin learn algorithm , includ logist regress , k-nearest neighbor ( knn ) , support vector machin ( svm ) , decis tree , employ evalu effect weather classif .']"
      ]
     },
     "execution_count": 39,
     "metadata": {},
     "output_type": "execute_result"
    }
   ],
   "source": [
    "sent"
   ]
  },
  {
   "cell_type": "markdown",
   "id": "a440b7dc-7fae-43a4-a816-f56b44b5c402",
   "metadata": {},
   "source": [
    "# Lemmatization"
   ]
  },
  {
   "cell_type": "code",
   "execution_count": 41,
   "id": "042a7412-e75a-4a43-9660-e5a446416ae7",
   "metadata": {},
   "outputs": [
    {
     "data": {
      "text/plain": [
       "['i',\n",
       " 'me',\n",
       " 'my',\n",
       " 'myself',\n",
       " 'we',\n",
       " 'our',\n",
       " 'ours',\n",
       " 'ourselves',\n",
       " 'you',\n",
       " \"you're\",\n",
       " \"you've\",\n",
       " \"you'll\",\n",
       " \"you'd\",\n",
       " 'your',\n",
       " 'yours',\n",
       " 'yourself',\n",
       " 'yourselves',\n",
       " 'he',\n",
       " 'him',\n",
       " 'his',\n",
       " 'himself',\n",
       " 'she',\n",
       " \"she's\",\n",
       " 'her',\n",
       " 'hers',\n",
       " 'herself',\n",
       " 'it',\n",
       " \"it's\",\n",
       " 'its',\n",
       " 'itself',\n",
       " 'they',\n",
       " 'them',\n",
       " 'their',\n",
       " 'theirs',\n",
       " 'themselves',\n",
       " 'what',\n",
       " 'which',\n",
       " 'who',\n",
       " 'whom',\n",
       " 'this',\n",
       " 'that',\n",
       " \"that'll\",\n",
       " 'these',\n",
       " 'those',\n",
       " 'am',\n",
       " 'is',\n",
       " 'are',\n",
       " 'was',\n",
       " 'were',\n",
       " 'be',\n",
       " 'been',\n",
       " 'being',\n",
       " 'have',\n",
       " 'has',\n",
       " 'had',\n",
       " 'having',\n",
       " 'do',\n",
       " 'does',\n",
       " 'did',\n",
       " 'doing',\n",
       " 'a',\n",
       " 'an',\n",
       " 'the',\n",
       " 'and',\n",
       " 'but',\n",
       " 'if',\n",
       " 'or',\n",
       " 'because',\n",
       " 'as',\n",
       " 'until',\n",
       " 'while',\n",
       " 'of',\n",
       " 'at',\n",
       " 'by',\n",
       " 'for',\n",
       " 'with',\n",
       " 'about',\n",
       " 'against',\n",
       " 'between',\n",
       " 'into',\n",
       " 'through',\n",
       " 'during',\n",
       " 'before',\n",
       " 'after',\n",
       " 'above',\n",
       " 'below',\n",
       " 'to',\n",
       " 'from',\n",
       " 'up',\n",
       " 'down',\n",
       " 'in',\n",
       " 'out',\n",
       " 'on',\n",
       " 'off',\n",
       " 'over',\n",
       " 'under',\n",
       " 'again',\n",
       " 'further',\n",
       " 'then',\n",
       " 'once',\n",
       " 'here',\n",
       " 'there',\n",
       " 'when',\n",
       " 'where',\n",
       " 'why',\n",
       " 'how',\n",
       " 'all',\n",
       " 'any',\n",
       " 'both',\n",
       " 'each',\n",
       " 'few',\n",
       " 'more',\n",
       " 'most',\n",
       " 'other',\n",
       " 'some',\n",
       " 'such',\n",
       " 'no',\n",
       " 'nor',\n",
       " 'not',\n",
       " 'only',\n",
       " 'own',\n",
       " 'same',\n",
       " 'so',\n",
       " 'than',\n",
       " 'too',\n",
       " 'very',\n",
       " 's',\n",
       " 't',\n",
       " 'can',\n",
       " 'will',\n",
       " 'just',\n",
       " 'don',\n",
       " \"don't\",\n",
       " 'should',\n",
       " \"should've\",\n",
       " 'now',\n",
       " 'd',\n",
       " 'll',\n",
       " 'm',\n",
       " 'o',\n",
       " 're',\n",
       " 've',\n",
       " 'y',\n",
       " 'ain',\n",
       " 'aren',\n",
       " \"aren't\",\n",
       " 'couldn',\n",
       " \"couldn't\",\n",
       " 'didn',\n",
       " \"didn't\",\n",
       " 'doesn',\n",
       " \"doesn't\",\n",
       " 'hadn',\n",
       " \"hadn't\",\n",
       " 'hasn',\n",
       " \"hasn't\",\n",
       " 'haven',\n",
       " \"haven't\",\n",
       " 'isn',\n",
       " \"isn't\",\n",
       " 'ma',\n",
       " 'mightn',\n",
       " \"mightn't\",\n",
       " 'mustn',\n",
       " \"mustn't\",\n",
       " 'needn',\n",
       " \"needn't\",\n",
       " 'shan',\n",
       " \"shan't\",\n",
       " 'shouldn',\n",
       " \"shouldn't\",\n",
       " 'wasn',\n",
       " \"wasn't\",\n",
       " 'weren',\n",
       " \"weren't\",\n",
       " 'won',\n",
       " \"won't\",\n",
       " 'wouldn',\n",
       " \"wouldn't\"]"
      ]
     },
     "execution_count": 41,
     "metadata": {},
     "output_type": "execute_result"
    }
   ],
   "source": [
    "a=stopwords.words('english')\n",
    "a"
   ]
  },
  {
   "cell_type": "code",
   "execution_count": 42,
   "id": "29c618bd-a987-47c1-8b19-728f8d226a85",
   "metadata": {},
   "outputs": [],
   "source": [
    "from nltk.stem import WordNetLemmatizer\n",
    "sent=nltk.sent_tokenize(text)\n",
    "lemmatizer=WordNetLemmatizer()\n",
    "# lemmatization\n",
    "for i in range(len(sent)):\n",
    "    words=nltk.word_tokenize(sent[i])\n",
    "    words=[lemmatizer.lemmatize(word) for word in words if word not in set(stopwords.words('english'))]\n",
    "    sent[i]=' '.join(words)\n"
   ]
  },
  {
   "cell_type": "code",
   "execution_count": 43,
   "id": "b4f45a28-faf8-4e32-9237-d9767afe9cb2",
   "metadata": {},
   "outputs": [
    {
     "name": "stderr",
     "output_type": "stream",
     "text": [
      "[nltk_data] Downloading package wordnet to\n",
      "[nltk_data]     C:\\Users\\Ajmalsha2712\\AppData\\Roaming\\nltk_data...\n",
      "[nltk_data]   Package wordnet is already up-to-date!\n"
     ]
    },
    {
     "data": {
      "text/plain": [
       "True"
      ]
     },
     "execution_count": 43,
     "metadata": {},
     "output_type": "execute_result"
    }
   ],
   "source": [
    "import nltk\n",
    "nltk.download('wordnet')\n"
   ]
  },
  {
   "cell_type": "code",
   "execution_count": 44,
   "id": "70b8063c-2e40-4ce5-8c59-55fdf3ce836b",
   "metadata": {},
   "outputs": [
    {
     "data": {
      "text/plain": [
       "['study , focus classifying weather different category sunny , cloudy , rainy , snowy , using machine learning model .',\n",
       " 'classification based dataset includes key meteorological indicator temperature , humidity , wind speed , atmospheric pressure , precipitation .',\n",
       " 'several machine learning algorithm , including logistic regression , k-nearest neighbor ( knn ) , support vector machine ( svm ) , decision tree , employed evaluate effectiveness weather classification .']"
      ]
     },
     "execution_count": 44,
     "metadata": {},
     "output_type": "execute_result"
    }
   ],
   "source": [
    "sent"
   ]
  },
  {
   "cell_type": "markdown",
   "id": "8d143633-4a49-4b06-9bec-2175ee72dc98",
   "metadata": {},
   "source": [
    "# TF-IDF"
   ]
  },
  {
   "cell_type": "code",
   "execution_count": 46,
   "id": "9fa073ed-3d35-4c7c-80f5-d8d7655f19d4",
   "metadata": {
    "scrolled": true
   },
   "outputs": [
    {
     "data": {
      "text/plain": [
       "'Mullaperiyar Dam (IPA: [mulːɐpːeɾijɐːr]) is a masonry gravity dam on the Periyar River of Idukki district of Indian state of Kerala. It is situated 150km south east of Kochi and 200km north east of state capital city of Trivandrum.It is located 881 m (2,890 ft) above the sea level, on the Cardamom Hills of the Western Ghats in Thekkady, Idukki District of Kerala, India. It was constructed between 1887 and 1895 by John Pennycuick and also reached in an agreement to divert water eastwards to the Madras Presidency area (present-day Tamil Nadu). It has a height of 53.6 m (176 ft) from the foundation, and a length of 365.7 m (1,200 ft).The Periyar National Park in Thekkady is located around the dam\\'s reservoir. The dam is built at the confluence of Mullayar and Periyar rivers. The dam is located in Kerala on the river Periyar,but is operated and maintained by the neighbouring state of Tamil Nadu.Although the Periyar River has a total catchment area of 5398 km2 with 114 km2 downstream from the dam in Tamil Nadu,the catchment area of the Mullaperiyar Dam itself lies entirely in Kerala and thus not an inter-State river.On 21 November 2014, the water level hit 142 feet for first time in 35 years.The reservoir again hit the maximum limit of 142 feet on 15 August 2018, following incessant rains in the state of Kerala. In a 2021 UNU-INWEH report about ageing large dams around the world, Mullaperiyar was said to be \"situated in a seismically active area with significant structural flaws and poses risk to 3.5 million people if the 100+ years old dam were to fail'"
      ]
     },
     "execution_count": 46,
     "metadata": {},
     "output_type": "execute_result"
    }
   ],
   "source": [
    "x='''Mullaperiyar Dam (IPA: [mulːɐpːeɾijɐːr]) is a masonry gravity dam on the Periyar River of Idukki district of Indian state of Kerala. It is situated 150km south east of Kochi and 200km north east of state capital city of Trivandrum.It is located 881 m (2,890 ft) above the sea level, on the Cardamom Hills of the Western Ghats in Thekkady, Idukki District of Kerala, India. It was constructed between 1887 and 1895 by John Pennycuick and also reached in an agreement to divert water eastwards to the Madras Presidency area (present-day Tamil Nadu). It has a height of 53.6 m (176 ft) from the foundation, and a length of 365.7 m (1,200 ft).The Periyar National Park in Thekkady is located around the dam's reservoir. The dam is built at the confluence of Mullayar and Periyar rivers. The dam is located in Kerala on the river Periyar,but is operated and maintained by the neighbouring state of Tamil Nadu.Although the Periyar River has a total catchment area of 5398 km2 with 114 km2 downstream from the dam in Tamil Nadu,the catchment area of the Mullaperiyar Dam itself lies entirely in Kerala and thus not an inter-State river.On 21 November 2014, the water level hit 142 feet for first time in 35 years.The reservoir again hit the maximum limit of 142 feet on 15 August 2018, following incessant rains in the state of Kerala. In a 2021 UNU-INWEH report about ageing large dams around the world, Mullaperiyar was said to be \"situated in a seismically active area with significant structural flaws and poses risk to 3.5 million people if the 100+ years old dam were to fail'''\n",
    "x"
   ]
  },
  {
   "cell_type": "code",
   "execution_count": 47,
   "id": "8f402400-2e7d-4503-9f35-2785af6e025f",
   "metadata": {},
   "outputs": [],
   "source": [
    "#  cleaning the text\n",
    "import re \n",
    "from nltk.corpus import stopwords \n",
    "from nltk.stem import WordNetLemmatizer\n",
    "from nltk.stem.porter import PorterStemmer\n",
    "\n",
    "ps=PorterStemmer()\n",
    "wordnet=WordNetLemmatizer()\n",
    "sent=nltk.sent_tokenize(x)\n",
    "corpus=[]\n",
    "for i in range(len(sent)):\n",
    "    review=re.sub('[^a-zA-Z]',' ',sent[i])\n",
    "    review=review.lower()\n",
    "    review=nltk.word_tokenize(review)\n",
    "    # review=[wordnet.lemmatize(word) for word in review if not word in set(stopwords.words('english'))]\n",
    "    review=[ps.stem(word) for word in review if not word in set(stopwords.words('english'))]\n",
    "    review=' '.join(review)\n",
    "    corpus.append(review)"
   ]
  },
  {
   "cell_type": "code",
   "execution_count": 53,
   "id": "f05fa05d-4957-425a-bb0c-491ddfd46f8d",
   "metadata": {},
   "outputs": [
    {
     "data": {
      "text/plain": [
       "array([[0, 0, 0, 0, 0, 0, 0, 0, 0, 0, 0, 0, 0, 0, 0, 2, 0, 1, 0, 0, 0, 0,\n",
       "        0, 0, 0, 0, 0, 0, 0, 0, 0, 1, 0, 0, 0, 1, 1, 0, 0, 1, 0, 0, 1, 0,\n",
       "        1, 0, 0, 0, 0, 0, 0, 0, 0, 0, 0, 1, 0, 0, 1, 1, 0, 0, 0, 0, 0, 0,\n",
       "        0, 0, 0, 0, 0, 1, 0, 0, 0, 0, 0, 0, 0, 0, 1, 0, 0, 0, 0, 0, 0, 1,\n",
       "        0, 0, 0, 0, 0, 0, 0, 0, 0, 0, 0, 0],\n",
       "       [0, 0, 0, 0, 0, 0, 0, 0, 0, 1, 1, 0, 1, 0, 0, 0, 0, 1, 0, 0, 2, 0,\n",
       "        0, 0, 0, 0, 0, 0, 0, 1, 1, 0, 0, 1, 0, 1, 0, 0, 1, 0, 0, 0, 0, 0,\n",
       "        1, 2, 1, 0, 0, 1, 0, 0, 1, 0, 0, 0, 0, 0, 0, 0, 0, 0, 0, 0, 1, 0,\n",
       "        0, 0, 0, 0, 0, 0, 0, 0, 0, 0, 0, 0, 0, 0, 0, 0, 1, 0, 0, 1, 1, 1,\n",
       "        0, 0, 1, 0, 0, 0, 1, 0, 0, 1, 0, 0],\n",
       "       [0, 0, 1, 1, 0, 1, 0, 0, 0, 0, 0, 0, 0, 0, 1, 0, 1, 0, 1, 0, 0, 1,\n",
       "        0, 0, 0, 0, 0, 0, 0, 0, 0, 0, 0, 0, 0, 0, 0, 0, 0, 0, 0, 0, 0, 1,\n",
       "        0, 0, 0, 0, 0, 0, 0, 0, 0, 1, 0, 0, 0, 0, 0, 0, 0, 1, 0, 0, 0, 0,\n",
       "        0, 0, 0, 1, 0, 0, 0, 1, 1, 0, 1, 0, 0, 0, 0, 0, 0, 0, 0, 0, 0, 0,\n",
       "        0, 1, 0, 0, 0, 0, 0, 0, 1, 0, 0, 0],\n",
       "       [0, 0, 0, 0, 0, 0, 1, 0, 0, 0, 0, 0, 0, 0, 0, 1, 0, 0, 0, 0, 0, 0,\n",
       "        0, 0, 0, 0, 0, 0, 1, 2, 0, 0, 1, 0, 0, 0, 0, 0, 0, 0, 0, 0, 0, 0,\n",
       "        0, 0, 0, 0, 1, 0, 0, 0, 1, 0, 0, 0, 0, 0, 0, 0, 0, 0, 1, 0, 0, 0,\n",
       "        0, 0, 1, 0, 0, 1, 0, 0, 0, 0, 0, 0, 1, 0, 0, 0, 0, 0, 0, 0, 0, 0,\n",
       "        0, 0, 1, 0, 0, 0, 0, 0, 0, 0, 0, 0],\n",
       "       [0, 0, 0, 0, 0, 0, 0, 0, 1, 0, 0, 0, 0, 1, 0, 1, 0, 0, 0, 0, 0, 0,\n",
       "        0, 0, 0, 0, 0, 0, 0, 0, 0, 0, 0, 0, 0, 0, 0, 0, 0, 0, 0, 0, 0, 0,\n",
       "        0, 0, 0, 0, 0, 0, 0, 0, 0, 0, 0, 0, 0, 0, 0, 0, 1, 0, 0, 0, 0, 0,\n",
       "        0, 0, 0, 0, 0, 1, 0, 0, 0, 0, 0, 0, 0, 0, 1, 0, 0, 0, 0, 0, 0, 0,\n",
       "        0, 0, 0, 0, 0, 0, 0, 0, 0, 0, 0, 0],\n",
       "       [0, 0, 0, 0, 1, 2, 0, 1, 0, 0, 0, 2, 0, 0, 0, 3, 0, 0, 0, 1, 0, 0,\n",
       "        1, 0, 2, 1, 0, 1, 0, 0, 0, 0, 0, 0, 2, 0, 0, 1, 0, 0, 1, 0, 0, 0,\n",
       "        3, 2, 0, 0, 0, 1, 1, 1, 1, 0, 1, 0, 1, 0, 0, 1, 0, 2, 0, 1, 0, 1,\n",
       "        0, 1, 0, 0, 0, 2, 0, 0, 0, 1, 0, 0, 1, 0, 3, 0, 0, 0, 0, 0, 0, 3,\n",
       "        0, 2, 0, 1, 1, 1, 0, 0, 1, 0, 0, 1],\n",
       "       [1, 1, 0, 0, 0, 1, 1, 0, 0, 0, 0, 0, 0, 0, 0, 2, 0, 0, 0, 0, 0, 0,\n",
       "        0, 1, 0, 0, 1, 0, 0, 0, 0, 0, 0, 0, 0, 0, 0, 0, 0, 0, 0, 1, 0, 0,\n",
       "        0, 0, 0, 1, 0, 0, 0, 0, 0, 0, 0, 0, 0, 1, 0, 1, 0, 0, 0, 0, 0, 0,\n",
       "        1, 0, 0, 0, 1, 0, 1, 0, 0, 0, 0, 1, 0, 1, 0, 1, 0, 1, 1, 1, 0, 0,\n",
       "        1, 0, 0, 0, 0, 0, 0, 1, 0, 0, 1, 1]], dtype=int64)"
      ]
     },
     "execution_count": 53,
     "metadata": {},
     "output_type": "execute_result"
    }
   ],
   "source": [
    "from sklearn.feature_extraction.text import CountVectorizer\n",
    "cv=CountVectorizer()\n",
    "y=cv.fit_transform(corpus).toarray()\n",
    "y"
   ]
  },
  {
   "cell_type": "code",
   "execution_count": 54,
   "id": "4f554b38-8012-4a4c-a239-15170f28c2b0",
   "metadata": {},
   "outputs": [
    {
     "data": {
      "text/plain": [
       "['mullaperiyar dam ipa mul p e ij r masonri graviti dam periyar river idukki district indian state kerala',\n",
       " 'situat km south east kochi km north east state capit citi trivandrum locat ft sea level cardamom hill western ghat thekkadi idukki district kerala india',\n",
       " 'construct john pennycuick also reach agreement divert water eastward madra presid area present day tamil nadu',\n",
       " 'height ft foundat length ft periyar nation park thekkadi locat around dam reservoir',\n",
       " 'dam built confluenc mullayar periyar river',\n",
       " 'dam locat kerala river periyar oper maintain neighbour state tamil nadu although periyar river total catchment area km km downstream dam tamil nadu catchment area mullaperiyar dam lie entir kerala thu inter state river novemb water level hit feet first time year reservoir hit maximum limit feet august follow incess rain state kerala',\n",
       " 'unu inweh report age larg dam around world mullaperiyar said situat seismic activ area signific structur flaw pose risk million peopl year old dam fail']"
      ]
     },
     "execution_count": 54,
     "metadata": {},
     "output_type": "execute_result"
    }
   ],
   "source": [
    "corpus"
   ]
  },
  {
   "cell_type": "code",
   "execution_count": 62,
   "id": "50480444-2251-44cc-97d2-b69301708b2a",
   "metadata": {},
   "outputs": [
    {
     "data": {
      "text/plain": [
       "(7, 100)"
      ]
     },
     "execution_count": 62,
     "metadata": {},
     "output_type": "execute_result"
    }
   ],
   "source": [
    "y.shape"
   ]
  },
  {
   "cell_type": "code",
   "execution_count": 64,
   "id": "e16a920c-a5d0-4764-8aa5-4e274128b950",
   "metadata": {},
   "outputs": [],
   "source": [
    "# TD-IDF\n",
    "import re \n",
    "import nltk\n",
    "from nltk.corpus import stopwords \n",
    "from nltk.stem import WordNetLemmatizer\n",
    "\n",
    "wordnet=WordNetLemmatizer()\n",
    "sent=nltk.sent_tokenize(x)\n",
    "corpus=[]\n",
    "for i in range(len(sent)):\n",
    "    review=re.sub('[^a-zA-Z]',' ',sent[i])\n",
    "    review=review.lower()\n",
    "    review=nltk.word_tokenize(review)\n",
    "    review=[wordnet.lemmatize(word) for word in review if not word in set(stopwords.words('english'))]\n",
    "    review=' '.join(review)\n",
    "    corpus.append(review)"
   ]
  },
  {
   "cell_type": "code",
   "execution_count": 66,
   "id": "6a8d654f-fe2a-4ff1-84c6-bac64d0585cc",
   "metadata": {},
   "outputs": [
    {
     "data": {
      "text/plain": [
       "array([[0.        , 0.        , 0.        , 0.        , 0.        ,\n",
       "        0.        , 0.        , 0.        , 0.        , 0.        ,\n",
       "        0.        , 0.        , 0.        , 0.        , 0.        ,\n",
       "        0.32635078, 0.        , 0.25101117, 0.        , 0.        ,\n",
       "        0.        , 0.        , 0.        , 0.        , 0.        ,\n",
       "        0.        , 0.        , 0.        , 0.        , 0.        ,\n",
       "        0.        , 0.30239181, 0.        , 0.        , 0.        ,\n",
       "        0.25101117, 0.30239181, 0.        , 0.        , 0.30239181,\n",
       "        0.        , 0.        , 0.30239181, 0.        , 0.21455603,\n",
       "        0.        , 0.        , 0.        , 0.        , 0.        ,\n",
       "        0.        , 0.        , 0.        , 0.        , 0.        ,\n",
       "        0.30239181, 0.        , 0.        , 0.30239181, 0.21455603,\n",
       "        0.        , 0.        , 0.        , 0.        , 0.        ,\n",
       "        0.        , 0.        , 0.        , 0.        , 0.        ,\n",
       "        0.        , 0.18627922, 0.        , 0.        , 0.        ,\n",
       "        0.        , 0.        , 0.        , 0.        , 0.        ,\n",
       "        0.21455603, 0.        , 0.        , 0.        , 0.        ,\n",
       "        0.        , 0.        , 0.21455603, 0.        , 0.        ,\n",
       "        0.        , 0.        , 0.        , 0.        , 0.        ,\n",
       "        0.        , 0.        , 0.        , 0.        , 0.        ],\n",
       "       [0.        , 0.        , 0.        , 0.        , 0.        ,\n",
       "        0.        , 0.        , 0.        , 0.        , 0.20244108,\n",
       "        0.20244108, 0.        , 0.20244108, 0.        , 0.        ,\n",
       "        0.        , 0.        , 0.16804348, 0.        , 0.        ,\n",
       "        0.40488216, 0.        , 0.        , 0.        , 0.        ,\n",
       "        0.        , 0.        , 0.        , 0.        , 0.16804348,\n",
       "        0.20244108, 0.        , 0.        , 0.20244108, 0.        ,\n",
       "        0.16804348, 0.        , 0.        , 0.20244108, 0.        ,\n",
       "        0.        , 0.        , 0.        , 0.        , 0.143638  ,\n",
       "        0.33608696, 0.20244108, 0.        , 0.        , 0.16804348,\n",
       "        0.        , 0.        , 0.143638  , 0.        , 0.        ,\n",
       "        0.        , 0.        , 0.        , 0.        , 0.        ,\n",
       "        0.        , 0.        , 0.        , 0.        , 0.20244108,\n",
       "        0.        , 0.        , 0.        , 0.        , 0.        ,\n",
       "        0.        , 0.        , 0.        , 0.        , 0.        ,\n",
       "        0.        , 0.        , 0.        , 0.        , 0.        ,\n",
       "        0.        , 0.        , 0.20244108, 0.        , 0.        ,\n",
       "        0.16804348, 0.20244108, 0.143638  , 0.        , 0.        ,\n",
       "        0.16804348, 0.        , 0.        , 0.        , 0.20244108,\n",
       "        0.        , 0.        , 0.20244108, 0.        , 0.        ],\n",
       "       [0.        , 0.        , 0.26197622, 0.26197622, 0.        ,\n",
       "        0.18587996, 0.        , 0.        , 0.        , 0.        ,\n",
       "        0.        , 0.        , 0.        , 0.        , 0.26197622,\n",
       "        0.        , 0.26197622, 0.        , 0.26197622, 0.        ,\n",
       "        0.        , 0.26197622, 0.        , 0.        , 0.        ,\n",
       "        0.        , 0.        , 0.        , 0.        , 0.        ,\n",
       "        0.        , 0.        , 0.        , 0.        , 0.        ,\n",
       "        0.        , 0.        , 0.        , 0.        , 0.        ,\n",
       "        0.        , 0.        , 0.        , 0.26197622, 0.        ,\n",
       "        0.        , 0.        , 0.        , 0.        , 0.        ,\n",
       "        0.        , 0.        , 0.        , 0.26197622, 0.        ,\n",
       "        0.        , 0.        , 0.        , 0.        , 0.        ,\n",
       "        0.        , 0.21746276, 0.        , 0.        , 0.        ,\n",
       "        0.        , 0.        , 0.        , 0.        , 0.26197622,\n",
       "        0.        , 0.        , 0.        , 0.26197622, 0.26197622,\n",
       "        0.        , 0.26197622, 0.        , 0.        , 0.        ,\n",
       "        0.        , 0.        , 0.        , 0.        , 0.        ,\n",
       "        0.        , 0.        , 0.        , 0.        , 0.21746276,\n",
       "        0.        , 0.        , 0.        , 0.        , 0.        ,\n",
       "        0.        , 0.21746276, 0.        , 0.        , 0.        ],\n",
       "       [0.        , 0.        , 0.        , 0.        , 0.        ,\n",
       "        0.        , 0.25030994, 0.        , 0.        , 0.        ,\n",
       "        0.        , 0.        , 0.        , 0.        , 0.        ,\n",
       "        0.16271954, 0.        , 0.        , 0.        , 0.        ,\n",
       "        0.        , 0.        , 0.        , 0.        , 0.        ,\n",
       "        0.        , 0.        , 0.        , 0.30154704, 0.50061988,\n",
       "        0.        , 0.        , 0.30154704, 0.        , 0.        ,\n",
       "        0.        , 0.        , 0.        , 0.        , 0.        ,\n",
       "        0.        , 0.        , 0.        , 0.        , 0.        ,\n",
       "        0.        , 0.        , 0.        , 0.30154704, 0.        ,\n",
       "        0.        , 0.        , 0.21395664, 0.        , 0.        ,\n",
       "        0.        , 0.        , 0.        , 0.        , 0.        ,\n",
       "        0.        , 0.        , 0.30154704, 0.        , 0.        ,\n",
       "        0.        , 0.        , 0.        , 0.30154704, 0.        ,\n",
       "        0.        , 0.18575883, 0.        , 0.        , 0.        ,\n",
       "        0.        , 0.        , 0.        , 0.25030994, 0.        ,\n",
       "        0.        , 0.        , 0.        , 0.        , 0.        ,\n",
       "        0.        , 0.        , 0.        , 0.        , 0.        ,\n",
       "        0.25030994, 0.        , 0.        , 0.        , 0.        ,\n",
       "        0.        , 0.        , 0.        , 0.        , 0.        ],\n",
       "       [0.        , 0.        , 0.        , 0.        , 0.        ,\n",
       "        0.        , 0.        , 0.        , 0.48946168, 0.        ,\n",
       "        0.        , 0.        , 0.        , 0.48946168, 0.        ,\n",
       "        0.26412124, 0.        , 0.        , 0.        , 0.        ,\n",
       "        0.        , 0.        , 0.        , 0.        , 0.        ,\n",
       "        0.        , 0.        , 0.        , 0.        , 0.        ,\n",
       "        0.        , 0.        , 0.        , 0.        , 0.        ,\n",
       "        0.        , 0.        , 0.        , 0.        , 0.        ,\n",
       "        0.        , 0.        , 0.        , 0.        , 0.        ,\n",
       "        0.        , 0.        , 0.        , 0.        , 0.        ,\n",
       "        0.        , 0.        , 0.        , 0.        , 0.        ,\n",
       "        0.        , 0.        , 0.        , 0.        , 0.        ,\n",
       "        0.48946168, 0.        , 0.        , 0.        , 0.        ,\n",
       "        0.        , 0.        , 0.        , 0.        , 0.        ,\n",
       "        0.        , 0.30151789, 0.        , 0.        , 0.        ,\n",
       "        0.        , 0.        , 0.        , 0.        , 0.        ,\n",
       "        0.34728769, 0.        , 0.        , 0.        , 0.        ,\n",
       "        0.        , 0.        , 0.        , 0.        , 0.        ,\n",
       "        0.        , 0.        , 0.        , 0.        , 0.        ,\n",
       "        0.        , 0.        , 0.        , 0.        , 0.        ],\n",
       "       [0.        , 0.        , 0.        , 0.        , 0.12621219,\n",
       "        0.17910264, 0.        , 0.12621219, 0.        , 0.        ,\n",
       "        0.        , 0.25242437, 0.        , 0.        , 0.        ,\n",
       "        0.20431826, 0.        , 0.        , 0.        , 0.12621219,\n",
       "        0.        , 0.        , 0.12621219, 0.        , 0.12621219,\n",
       "        0.        , 0.12621219, 0.25242437, 0.        , 0.        ,\n",
       "        0.        , 0.        , 0.        , 0.        , 0.25242437,\n",
       "        0.        , 0.        , 0.12621219, 0.        , 0.        ,\n",
       "        0.12621219, 0.        , 0.        , 0.        , 0.26865396,\n",
       "        0.20953391, 0.        , 0.        , 0.        , 0.10476695,\n",
       "        0.12621219, 0.12621219, 0.08955132, 0.        , 0.12621219,\n",
       "        0.        , 0.12621219, 0.        , 0.        , 0.08955132,\n",
       "        0.        , 0.20953391, 0.        , 0.12621219, 0.        ,\n",
       "        0.12621219, 0.        , 0.12621219, 0.        , 0.        ,\n",
       "        0.        , 0.15549831, 0.        , 0.        , 0.        ,\n",
       "        0.12621219, 0.        , 0.        , 0.10476695, 0.        ,\n",
       "        0.26865396, 0.        , 0.        , 0.        , 0.        ,\n",
       "        0.        , 0.        , 0.26865396, 0.        , 0.20953391,\n",
       "        0.        , 0.12621219, 0.12621219, 0.12621219, 0.        ,\n",
       "        0.        , 0.10476695, 0.        , 0.        , 0.10476695],\n",
       "       [0.21205327, 0.21205327, 0.        , 0.        , 0.        ,\n",
       "        0.15045813, 0.17602242, 0.        , 0.        , 0.        ,\n",
       "        0.        , 0.        , 0.        , 0.        , 0.        ,\n",
       "        0.22885458, 0.        , 0.        , 0.        , 0.        ,\n",
       "        0.        , 0.        , 0.        , 0.21205327, 0.        ,\n",
       "        0.21205327, 0.        , 0.        , 0.        , 0.        ,\n",
       "        0.        , 0.        , 0.        , 0.        , 0.        ,\n",
       "        0.        , 0.        , 0.        , 0.        , 0.        ,\n",
       "        0.        , 0.21205327, 0.        , 0.        , 0.        ,\n",
       "        0.        , 0.        , 0.21205327, 0.        , 0.        ,\n",
       "        0.        , 0.        , 0.        , 0.        , 0.        ,\n",
       "        0.        , 0.        , 0.21205327, 0.        , 0.15045813,\n",
       "        0.        , 0.        , 0.        , 0.        , 0.        ,\n",
       "        0.        , 0.21205327, 0.        , 0.        , 0.        ,\n",
       "        0.21205327, 0.        , 0.21205327, 0.        , 0.        ,\n",
       "        0.        , 0.        , 0.21205327, 0.        , 0.21205327,\n",
       "        0.        , 0.21205327, 0.        , 0.21205327, 0.21205327,\n",
       "        0.17602242, 0.        , 0.        , 0.21205327, 0.        ,\n",
       "        0.        , 0.        , 0.        , 0.        , 0.        ,\n",
       "        0.21205327, 0.        , 0.        , 0.21205327, 0.17602242]])"
      ]
     },
     "execution_count": 66,
     "metadata": {},
     "output_type": "execute_result"
    }
   ],
   "source": [
    "from sklearn.feature_extraction.text import TfidfVectorizer\n",
    "cv=TfidfVectorizer()\n",
    "u=cv.fit_transform(corpus).toarray()\n",
    "u"
   ]
  },
  {
   "cell_type": "markdown",
   "id": "f737e8c4-18e0-43de-a656-da54d59e0654",
   "metadata": {},
   "source": [
    "# Word Embedding"
   ]
  },
  {
   "cell_type": "code",
   "execution_count": 142,
   "id": "1890d690-619d-4ac9-bf50-0ed4e6b5006d",
   "metadata": {
    "scrolled": true
   },
   "outputs": [
    {
     "data": {
      "text/plain": [
       "'Mullaperiyar Dam  is a masonry gravity dam on the Periyar River of Idukki district of Indian state of Kerala. It is situated 150km south east of Kochi and 200km north east of state capital city of Trivandrum.It is located 881 m (2,890 ft) above the sea level, on the Cardamom Hills of the Western Ghats in Thekkady, Idukki District of Kerala, India. It was constructed between 1887 and 1895 by John Pennycuick and also reached in an agreement to divert water eastwards to the Madras Presidency area (present-day Tamil Nadu). It has a height of 53.6 m (176 ft) from the foundation, and a length of 365.7 m (1,200 ft).The Periyar National Park in Thekkady is located around the dam\\'s reservoir. The dam is built at the confluence of Mullayar and Periyar rivers. The dam is located in Kerala on the river Periyar,but is operated and maintained by the neighbouring state of Tamil Nadu.Although the Periyar River has a total catchment area of 5398 km2 with 114 km2 downstream from the dam in Tamil Nadu,the catchment area of the Mullaperiyar Dam itself lies entirely in Kerala and thus not an inter-State river.On 21 November 2014, the water level hit 142 feet for first time in 35 years.The reservoir again hit the maximum limit of 142 feet on 15 August 2018, following incessant rains in the state of Kerala. In a 2021 UNU-INWEH report about ageing large dams around the world, Mullaperiyar was said to be \"situated in a seismically active area with significant structural flaws and poses risk to 3.5 million people if the 100+ years old dam were to fail'"
      ]
     },
     "execution_count": 142,
     "metadata": {},
     "output_type": "execute_result"
    }
   ],
   "source": [
    "x='''Mullaperiyar Dam  is a masonry gravity dam on the Periyar River of Idukki district of Indian state of Kerala. It is situated 150km south east of Kochi and 200km north east of state capital city of Trivandrum.It is located 881 m (2,890 ft) above the sea level, on the Cardamom Hills of the Western Ghats in Thekkady, Idukki District of Kerala, India. It was constructed between 1887 and 1895 by John Pennycuick and also reached in an agreement to divert water eastwards to the Madras Presidency area (present-day Tamil Nadu). It has a height of 53.6 m (176 ft) from the foundation, and a length of 365.7 m (1,200 ft).The Periyar National Park in Thekkady is located around the dam\\'s reservoir. The dam is built at the confluence of Mullayar and Periyar rivers. The dam is located in Kerala on the river Periyar,but is operated and maintained by the neighbouring state of Tamil Nadu.Although the Periyar River has a total catchment area of 5398 km2 with 114 km2 downstream from the dam in Tamil Nadu,the catchment area of the Mullaperiyar Dam itself lies entirely in Kerala and thus not an inter-State river.On 21 November 2014, the water level hit 142 feet for first time in 35 years.The reservoir again hit the maximum limit of 142 feet on 15 August 2018, following incessant rains in the state of Kerala. In a 2021 UNU-INWEH report about ageing large dams around the world, Mullaperiyar was said to be \"situated in a seismically active area with significant structural flaws and poses risk to 3.5 million people if the 100+ years old dam were to fail'''\n",
    "x"
   ]
  },
  {
   "cell_type": "code",
   "execution_count": 144,
   "id": "d3f9d180-c931-4f9e-a6c8-acb88c1bd307",
   "metadata": {
    "scrolled": true
   },
   "outputs": [
    {
     "name": "stdout",
     "output_type": "stream",
     "text": [
      "Requirement already satisfied: gensim in c:\\users\\ajmalsha2712\\anaconda3\\lib\\site-packages (4.3.0)\n",
      "Requirement already satisfied: numpy>=1.18.5 in c:\\users\\ajmalsha2712\\anaconda3\\lib\\site-packages (from gensim) (1.24.4)\n",
      "Requirement already satisfied: scipy>=1.7.0 in c:\\users\\ajmalsha2712\\anaconda3\\lib\\site-packages (from gensim) (1.10.1)\n",
      "Requirement already satisfied: smart-open>=1.8.1 in c:\\users\\ajmalsha2712\\anaconda3\\lib\\site-packages (from gensim) (5.2.1)\n",
      "Requirement already satisfied: FuzzyTM>=0.4.0 in c:\\users\\ajmalsha2712\\anaconda3\\lib\\site-packages (from gensim) (2.0.9)\n",
      "Requirement already satisfied: pandas in c:\\users\\ajmalsha2712\\anaconda3\\lib\\site-packages (from FuzzyTM>=0.4.0->gensim) (1.5.3)\n",
      "Requirement already satisfied: pyfume in c:\\users\\ajmalsha2712\\anaconda3\\lib\\site-packages (from FuzzyTM>=0.4.0->gensim) (0.3.4)\n",
      "Requirement already satisfied: python-dateutil>=2.8.1 in c:\\users\\ajmalsha2712\\anaconda3\\lib\\site-packages (from pandas->FuzzyTM>=0.4.0->gensim) (2.8.2)\n",
      "Requirement already satisfied: pytz>=2020.1 in c:\\users\\ajmalsha2712\\anaconda3\\lib\\site-packages (from pandas->FuzzyTM>=0.4.0->gensim) (2023.3.post1)\n",
      "Requirement already satisfied: simpful==2.12.0 in c:\\users\\ajmalsha2712\\anaconda3\\lib\\site-packages (from pyfume->FuzzyTM>=0.4.0->gensim) (2.12.0)\n",
      "Requirement already satisfied: fst-pso==1.8.1 in c:\\users\\ajmalsha2712\\anaconda3\\lib\\site-packages (from pyfume->FuzzyTM>=0.4.0->gensim) (1.8.1)\n",
      "Requirement already satisfied: miniful in c:\\users\\ajmalsha2712\\anaconda3\\lib\\site-packages (from fst-pso==1.8.1->pyfume->FuzzyTM>=0.4.0->gensim) (0.0.6)\n",
      "Requirement already satisfied: six>=1.5 in c:\\users\\ajmalsha2712\\anaconda3\\lib\\site-packages (from python-dateutil>=2.8.1->pandas->FuzzyTM>=0.4.0->gensim) (1.16.0)\n"
     ]
    }
   ],
   "source": [
    "import nltk\n",
    "import re\n",
    "from nltk.corpus import stopwords\n",
    "!pip install gensim"
   ]
  },
  {
   "cell_type": "code",
   "execution_count": 145,
   "id": "64474e4c-d6c9-4312-8bcc-4bdb6c7792e4",
   "metadata": {},
   "outputs": [],
   "source": [
    "from gensim.models  import Word2Vec"
   ]
  },
  {
   "cell_type": "code",
   "execution_count": 146,
   "id": "055d1ecc-1f80-46d8-bbb6-b0aae2ca0402",
   "metadata": {},
   "outputs": [],
   "source": [
    "p=re.sub('[^a-zA-Z]',' ',x)"
   ]
  },
  {
   "cell_type": "code",
   "execution_count": 147,
   "id": "a625800f-cdd1-426a-b92b-ed2e245db039",
   "metadata": {
    "scrolled": true
   },
   "outputs": [
    {
     "data": {
      "text/plain": [
       "'Mullaperiyar Dam  is a masonry gravity dam on the Periyar River of Idukki district of Indian state of Kerala  It is situated    km south east of Kochi and    km north east of state capital city of Trivandrum It is located     m        ft  above the sea level  on the Cardamom Hills of the Western Ghats in Thekkady  Idukki District of Kerala  India  It was constructed between      and      by John Pennycuick and also reached in an agreement to divert water eastwards to the Madras Presidency area  present day Tamil Nadu   It has a height of      m      ft  from the foundation  and a length of       m        ft  The Periyar National Park in Thekkady is located around the dam s reservoir  The dam is built at the confluence of Mullayar and Periyar rivers  The dam is located in Kerala on the river Periyar but is operated and maintained by the neighbouring state of Tamil Nadu Although the Periyar River has a total catchment area of      km  with     km  downstream from the dam in Tamil Nadu the catchment area of the Mullaperiyar Dam itself lies entirely in Kerala and thus not an inter State river On    November       the water level hit     feet for first time in    years The reservoir again hit the maximum limit of     feet on    August       following incessant rains in the state of Kerala  In a      UNU INWEH report about ageing large dams around the world  Mullaperiyar was said to be  situated in a seismically active area with significant structural flaws and poses risk to     million people if the      years old dam were to fail'"
      ]
     },
     "execution_count": 147,
     "metadata": {},
     "output_type": "execute_result"
    }
   ],
   "source": [
    "p"
   ]
  },
  {
   "cell_type": "code",
   "execution_count": 148,
   "id": "6f94b5e8-889a-4fd8-93a8-2d865f9f50ae",
   "metadata": {},
   "outputs": [],
   "source": [
    "p=re.sub('\\s+',\" \",p)"
   ]
  },
  {
   "cell_type": "code",
   "execution_count": 149,
   "id": "b185a741-1d2c-4564-b8f0-8ffb00cb38c6",
   "metadata": {
    "scrolled": true
   },
   "outputs": [
    {
     "data": {
      "text/plain": [
       "'Mullaperiyar Dam is a masonry gravity dam on the Periyar River of Idukki district of Indian state of Kerala It is situated km south east of Kochi and km north east of state capital city of Trivandrum It is located m ft above the sea level on the Cardamom Hills of the Western Ghats in Thekkady Idukki District of Kerala India It was constructed between and by John Pennycuick and also reached in an agreement to divert water eastwards to the Madras Presidency area present day Tamil Nadu It has a height of m ft from the foundation and a length of m ft The Periyar National Park in Thekkady is located around the dam s reservoir The dam is built at the confluence of Mullayar and Periyar rivers The dam is located in Kerala on the river Periyar but is operated and maintained by the neighbouring state of Tamil Nadu Although the Periyar River has a total catchment area of km with km downstream from the dam in Tamil Nadu the catchment area of the Mullaperiyar Dam itself lies entirely in Kerala and thus not an inter State river On November the water level hit feet for first time in years The reservoir again hit the maximum limit of feet on August following incessant rains in the state of Kerala In a UNU INWEH report about ageing large dams around the world Mullaperiyar was said to be situated in a seismically active area with significant structural flaws and poses risk to million people if the years old dam were to fail'"
      ]
     },
     "execution_count": 149,
     "metadata": {},
     "output_type": "execute_result"
    }
   ],
   "source": [
    "p"
   ]
  },
  {
   "cell_type": "code",
   "execution_count": 150,
   "id": "58fc22da-b742-4e6a-9735-992421490bba",
   "metadata": {},
   "outputs": [],
   "source": [
    "s=p.lower()"
   ]
  },
  {
   "cell_type": "code",
   "execution_count": 151,
   "id": "b7057d12-b4d5-40c2-a285-9473c0d80cd7",
   "metadata": {
    "scrolled": true
   },
   "outputs": [
    {
     "data": {
      "text/plain": [
       "'mullaperiyar dam is a masonry gravity dam on the periyar river of idukki district of indian state of kerala it is situated km south east of kochi and km north east of state capital city of trivandrum it is located m ft above the sea level on the cardamom hills of the western ghats in thekkady idukki district of kerala india it was constructed between and by john pennycuick and also reached in an agreement to divert water eastwards to the madras presidency area present day tamil nadu it has a height of m ft from the foundation and a length of m ft the periyar national park in thekkady is located around the dam s reservoir the dam is built at the confluence of mullayar and periyar rivers the dam is located in kerala on the river periyar but is operated and maintained by the neighbouring state of tamil nadu although the periyar river has a total catchment area of km with km downstream from the dam in tamil nadu the catchment area of the mullaperiyar dam itself lies entirely in kerala and thus not an inter state river on november the water level hit feet for first time in years the reservoir again hit the maximum limit of feet on august following incessant rains in the state of kerala in a unu inweh report about ageing large dams around the world mullaperiyar was said to be situated in a seismically active area with significant structural flaws and poses risk to million people if the years old dam were to fail'"
      ]
     },
     "execution_count": 151,
     "metadata": {},
     "output_type": "execute_result"
    }
   ],
   "source": [
    "s"
   ]
  },
  {
   "cell_type": "code",
   "execution_count": 160,
   "id": "2f163931-2647-4f98-b2b6-80a86e7cc888",
   "metadata": {
    "scrolled": true
   },
   "outputs": [
    {
     "data": {
      "text/plain": [
       "['mullaperiyar dam is a masonry gravity dam on the periyar river of idukki district of indian state of kerala it is situated km south east of kochi and km north east of state capital city of trivandrum it is located m ft above the sea level on the cardamom hills of the western ghats in thekkady idukki district of kerala india it was constructed between and by john pennycuick and also reached in an agreement to divert water eastwards to the madras presidency area present day tamil nadu it has a height of m ft from the foundation and a length of m ft the periyar national park in thekkady is located around the dam s reservoir the dam is built at the confluence of mullayar and periyar rivers the dam is located in kerala on the river periyar but is operated and maintained by the neighbouring state of tamil nadu although the periyar river has a total catchment area of km with km downstream from the dam in tamil nadu the catchment area of the mullaperiyar dam itself lies entirely in kerala and thus not an inter state river on november the water level hit feet for first time in years the reservoir again hit the maximum limit of feet on august following incessant rains in the state of kerala in a unu inweh report about ageing large dams around the world mullaperiyar was said to be situated in a seismically active area with significant structural flaws and poses risk to million people if the years old dam were to fail']"
      ]
     },
     "execution_count": 160,
     "metadata": {},
     "output_type": "execute_result"
    }
   ],
   "source": [
    "s=nltk.sent_tokenize(s)\n",
    "s"
   ]
  },
  {
   "cell_type": "code",
   "execution_count": 162,
   "id": "d5b7eb3e-7dfc-49fe-8c01-f0568b4dec22",
   "metadata": {},
   "outputs": [],
   "source": [
    "s=[nltk.word_tokenize(k) for k in s]\n",
    "for i in range(len(s)):\n",
    "    s[i]=[word for word in s[i] if word not in (stopwords.words('english'))]"
   ]
  },
  {
   "cell_type": "code",
   "execution_count": 164,
   "id": "df4e93af-0dd5-478b-97bd-501e0ee1adef",
   "metadata": {
    "scrolled": true
   },
   "outputs": [
    {
     "data": {
      "text/plain": [
       "[['mullaperiyar',\n",
       "  'dam',\n",
       "  'masonry',\n",
       "  'gravity',\n",
       "  'dam',\n",
       "  'periyar',\n",
       "  'river',\n",
       "  'idukki',\n",
       "  'district',\n",
       "  'indian',\n",
       "  'state',\n",
       "  'kerala',\n",
       "  'situated',\n",
       "  'km',\n",
       "  'south',\n",
       "  'east',\n",
       "  'kochi',\n",
       "  'km',\n",
       "  'north',\n",
       "  'east',\n",
       "  'state',\n",
       "  'capital',\n",
       "  'city',\n",
       "  'trivandrum',\n",
       "  'located',\n",
       "  'ft',\n",
       "  'sea',\n",
       "  'level',\n",
       "  'cardamom',\n",
       "  'hills',\n",
       "  'western',\n",
       "  'ghats',\n",
       "  'thekkady',\n",
       "  'idukki',\n",
       "  'district',\n",
       "  'kerala',\n",
       "  'india',\n",
       "  'constructed',\n",
       "  'john',\n",
       "  'pennycuick',\n",
       "  'also',\n",
       "  'reached',\n",
       "  'agreement',\n",
       "  'divert',\n",
       "  'water',\n",
       "  'eastwards',\n",
       "  'madras',\n",
       "  'presidency',\n",
       "  'area',\n",
       "  'present',\n",
       "  'day',\n",
       "  'tamil',\n",
       "  'nadu',\n",
       "  'height',\n",
       "  'ft',\n",
       "  'foundation',\n",
       "  'length',\n",
       "  'ft',\n",
       "  'periyar',\n",
       "  'national',\n",
       "  'park',\n",
       "  'thekkady',\n",
       "  'located',\n",
       "  'around',\n",
       "  'dam',\n",
       "  'reservoir',\n",
       "  'dam',\n",
       "  'built',\n",
       "  'confluence',\n",
       "  'mullayar',\n",
       "  'periyar',\n",
       "  'rivers',\n",
       "  'dam',\n",
       "  'located',\n",
       "  'kerala',\n",
       "  'river',\n",
       "  'periyar',\n",
       "  'operated',\n",
       "  'maintained',\n",
       "  'neighbouring',\n",
       "  'state',\n",
       "  'tamil',\n",
       "  'nadu',\n",
       "  'although',\n",
       "  'periyar',\n",
       "  'river',\n",
       "  'total',\n",
       "  'catchment',\n",
       "  'area',\n",
       "  'km',\n",
       "  'km',\n",
       "  'downstream',\n",
       "  'dam',\n",
       "  'tamil',\n",
       "  'nadu',\n",
       "  'catchment',\n",
       "  'area',\n",
       "  'mullaperiyar',\n",
       "  'dam',\n",
       "  'lies',\n",
       "  'entirely',\n",
       "  'kerala',\n",
       "  'thus',\n",
       "  'inter',\n",
       "  'state',\n",
       "  'river',\n",
       "  'november',\n",
       "  'water',\n",
       "  'level',\n",
       "  'hit',\n",
       "  'feet',\n",
       "  'first',\n",
       "  'time',\n",
       "  'years',\n",
       "  'reservoir',\n",
       "  'hit',\n",
       "  'maximum',\n",
       "  'limit',\n",
       "  'feet',\n",
       "  'august',\n",
       "  'following',\n",
       "  'incessant',\n",
       "  'rains',\n",
       "  'state',\n",
       "  'kerala',\n",
       "  'unu',\n",
       "  'inweh',\n",
       "  'report',\n",
       "  'ageing',\n",
       "  'large',\n",
       "  'dams',\n",
       "  'around',\n",
       "  'world',\n",
       "  'mullaperiyar',\n",
       "  'said',\n",
       "  'situated',\n",
       "  'seismically',\n",
       "  'active',\n",
       "  'area',\n",
       "  'significant',\n",
       "  'structural',\n",
       "  'flaws',\n",
       "  'poses',\n",
       "  'risk',\n",
       "  'million',\n",
       "  'people',\n",
       "  'years',\n",
       "  'old',\n",
       "  'dam',\n",
       "  'fail']]"
      ]
     },
     "execution_count": 164,
     "metadata": {},
     "output_type": "execute_result"
    }
   ],
   "source": [
    "s"
   ]
  },
  {
   "cell_type": "code",
   "execution_count": 166,
   "id": "45aaabca-8921-42f5-b684-2cf82ab064fb",
   "metadata": {
    "scrolled": true
   },
   "outputs": [
    {
     "data": {
      "text/plain": [
       "{'dam': 0,\n",
       " 'kerala': 1,\n",
       " 'periyar': 2,\n",
       " 'state': 3,\n",
       " 'area': 4,\n",
       " 'river': 5,\n",
       " 'km': 6,\n",
       " 'mullaperiyar': 7,\n",
       " 'nadu': 8,\n",
       " 'ft': 9,\n",
       " 'located': 10,\n",
       " 'tamil': 11,\n",
       " 'situated': 12,\n",
       " 'idukki': 13,\n",
       " 'around': 14,\n",
       " 'reservoir': 15,\n",
       " 'water': 16,\n",
       " 'catchment': 17,\n",
       " 'hit': 18,\n",
       " 'feet': 19,\n",
       " 'years': 20,\n",
       " 'level': 21,\n",
       " 'thekkady': 22,\n",
       " 'east': 23,\n",
       " 'district': 24,\n",
       " 'sea': 25,\n",
       " 'also': 26,\n",
       " 'day': 27,\n",
       " 'present': 28,\n",
       " 'masonry': 29,\n",
       " 'south': 30,\n",
       " 'presidency': 31,\n",
       " 'madras': 32,\n",
       " 'eastwards': 33,\n",
       " 'kochi': 34,\n",
       " 'divert': 35,\n",
       " 'agreement': 36,\n",
       " 'reached': 37,\n",
       " 'pennycuick': 38,\n",
       " 'north': 39,\n",
       " 'john': 40,\n",
       " 'constructed': 41,\n",
       " 'india': 42,\n",
       " 'indian': 43,\n",
       " 'ghats': 44,\n",
       " 'western': 45,\n",
       " 'capital': 46,\n",
       " 'city': 47,\n",
       " 'hills': 48,\n",
       " 'gravity': 49,\n",
       " 'trivandrum': 50,\n",
       " 'cardamom': 51,\n",
       " 'fail': 52,\n",
       " 'height': 53,\n",
       " 'world': 54,\n",
       " 'following': 55,\n",
       " 'incessant': 56,\n",
       " 'rains': 57,\n",
       " 'unu': 58,\n",
       " 'inweh': 59,\n",
       " 'report': 60,\n",
       " 'ageing': 61,\n",
       " 'large': 62,\n",
       " 'dams': 63,\n",
       " 'said': 64,\n",
       " 'foundation': 65,\n",
       " 'seismically': 66,\n",
       " 'active': 67,\n",
       " 'significant': 68,\n",
       " 'structural': 69,\n",
       " 'flaws': 70,\n",
       " 'poses': 71,\n",
       " 'risk': 72,\n",
       " 'million': 73,\n",
       " 'people': 74,\n",
       " 'august': 75,\n",
       " 'limit': 76,\n",
       " 'maximum': 77,\n",
       " 'time': 78,\n",
       " 'length': 79,\n",
       " 'old': 80,\n",
       " 'park': 81,\n",
       " 'built': 82,\n",
       " 'confluence': 83,\n",
       " 'mullayar': 84,\n",
       " 'rivers': 85,\n",
       " 'operated': 86,\n",
       " 'maintained': 87,\n",
       " 'neighbouring': 88,\n",
       " 'although': 89,\n",
       " 'total': 90,\n",
       " 'downstream': 91,\n",
       " 'lies': 92,\n",
       " 'entirely': 93,\n",
       " 'thus': 94,\n",
       " 'inter': 95,\n",
       " 'november': 96,\n",
       " 'first': 97,\n",
       " 'national': 98}"
      ]
     },
     "execution_count": 166,
     "metadata": {},
     "output_type": "execute_result"
    }
   ],
   "source": [
    "model=Word2Vec(s,min_count=1)\n",
    "words=model.wv.key_to_index\n",
    "words"
   ]
  },
  {
   "cell_type": "code",
   "execution_count": 170,
   "id": "cd1a704f-51d8-4f7f-9c1b-182ed6874a5f",
   "metadata": {},
   "outputs": [
    {
     "data": {
      "text/plain": [
       "[('reached', 0.23825648427009583),\n",
       " ('poses', 0.2184942662715912),\n",
       " ('nadu', 0.21143738925457),\n",
       " ('total', 0.19177672266960144),\n",
       " ('tamil', 0.17446637153625488),\n",
       " ('significant', 0.15008410811424255),\n",
       " ('river', 0.1473533809185028),\n",
       " ('risk', 0.14643129706382751),\n",
       " ('rains', 0.14492881298065186),\n",
       " ('time', 0.12929348647594452)]"
      ]
     },
     "execution_count": 170,
     "metadata": {},
     "output_type": "execute_result"
    }
   ],
   "source": [
    "model.wv.most_similar('although')"
   ]
  },
  {
   "cell_type": "code",
   "execution_count": 172,
   "id": "a15eb470-48be-4f46-86a8-ea3b34feaacf",
   "metadata": {
    "scrolled": true
   },
   "outputs": [
    {
     "data": {
      "text/plain": [
       "array([ 9.7434716e-03,  8.1757177e-03,  1.2782388e-03,  5.1008654e-03,\n",
       "        1.4287385e-03, -6.4859777e-03, -1.4155064e-03,  6.4973766e-03,\n",
       "       -4.6392777e-03, -4.0078554e-03,  4.9156165e-03,  2.6594133e-03,\n",
       "       -1.8543082e-03, -2.8564578e-03,  6.0385126e-03, -5.7395971e-03,\n",
       "       -3.2292136e-03, -6.4765261e-03, -4.2418805e-03, -8.6279493e-03,\n",
       "       -4.4534188e-03, -8.5218847e-03,  1.3740067e-03, -8.6339889e-03,\n",
       "       -9.9081099e-03, -8.2007693e-03, -6.8045654e-03,  6.6472837e-03,\n",
       "        3.7838696e-03,  3.2753756e-04, -2.9384175e-03, -7.3984489e-03,\n",
       "        5.3882215e-04,  4.8363573e-04,  1.8641565e-04,  8.7674672e-04,\n",
       "        8.0332020e-04, -6.7398076e-05, -7.9981564e-03, -5.8906283e-03,\n",
       "       -8.3851460e-03, -1.3394183e-03,  1.8354891e-03,  7.3988163e-03,\n",
       "       -1.9671284e-03, -2.3274668e-03,  9.4817458e-03,  7.7157376e-05,\n",
       "       -2.3844580e-03,  8.6246645e-03,  2.7092905e-03, -5.3628418e-03,\n",
       "        6.5996856e-03,  4.5276699e-03, -7.0558828e-03, -3.3123398e-04,\n",
       "        8.4791234e-04,  5.7445625e-03, -1.7136241e-03, -2.7861032e-03,\n",
       "        1.7685376e-03,  8.5131614e-04,  1.2028869e-03, -2.6509985e-03,\n",
       "       -6.0099880e-03,  7.3424620e-03,  7.5639831e-03,  8.3107343e-03,\n",
       "       -8.6332979e-03,  2.6682008e-03, -3.5682579e-03,  9.6314298e-03,\n",
       "        2.9306163e-03,  4.6421764e-03,  2.4192852e-03,  6.5931431e-03,\n",
       "       -5.7450151e-03,  7.9275332e-03, -2.3981202e-03, -4.5641391e-03,\n",
       "       -2.0495316e-03,  9.7349081e-03, -6.8936497e-03, -2.1751812e-03,\n",
       "        7.0068589e-03, -5.8222398e-05, -6.2900987e-03, -6.3984450e-03,\n",
       "        8.9801010e-03,  6.4403415e-03,  4.7979373e-03, -3.2488236e-03,\n",
       "       -9.2618251e-03,  3.8071841e-03,  7.1935495e-03, -5.6125396e-03,\n",
       "       -7.8692576e-03, -2.9856756e-03, -4.9371384e-03, -2.3414479e-03],\n",
       "      dtype=float32)"
      ]
     },
     "execution_count": 172,
     "metadata": {},
     "output_type": "execute_result"
    }
   ],
   "source": [
    "model.wv['tamil']"
   ]
  },
  {
   "cell_type": "markdown",
   "id": "6d668f1a-083f-4e91-acdc-9e8c619859bd",
   "metadata": {},
   "source": [
    "# Word Cloud"
   ]
  },
  {
   "cell_type": "code",
   "execution_count": 175,
   "id": "50db3e61-acb4-488a-a35a-e5b7a6b33c3b",
   "metadata": {
    "scrolled": true
   },
   "outputs": [
    {
     "name": "stdout",
     "output_type": "stream",
     "text": [
      "Collecting wordcloud\n",
      "  Downloading wordcloud-1.9.3-cp311-cp311-win_amd64.whl.metadata (3.5 kB)\n",
      "Requirement already satisfied: numpy>=1.6.1 in c:\\users\\ajmalsha2712\\anaconda3\\lib\\site-packages (from wordcloud) (1.24.4)\n",
      "Requirement already satisfied: pillow in c:\\users\\ajmalsha2712\\anaconda3\\lib\\site-packages (from wordcloud) (10.2.0)\n",
      "Requirement already satisfied: matplotlib in c:\\users\\ajmalsha2712\\anaconda3\\lib\\site-packages (from wordcloud) (3.8.0)\n",
      "Requirement already satisfied: contourpy>=1.0.1 in c:\\users\\ajmalsha2712\\anaconda3\\lib\\site-packages (from matplotlib->wordcloud) (1.2.0)\n",
      "Requirement already satisfied: cycler>=0.10 in c:\\users\\ajmalsha2712\\anaconda3\\lib\\site-packages (from matplotlib->wordcloud) (0.11.0)\n",
      "Requirement already satisfied: fonttools>=4.22.0 in c:\\users\\ajmalsha2712\\anaconda3\\lib\\site-packages (from matplotlib->wordcloud) (4.25.0)\n",
      "Requirement already satisfied: kiwisolver>=1.0.1 in c:\\users\\ajmalsha2712\\anaconda3\\lib\\site-packages (from matplotlib->wordcloud) (1.4.4)\n",
      "Requirement already satisfied: packaging>=20.0 in c:\\users\\ajmalsha2712\\anaconda3\\lib\\site-packages (from matplotlib->wordcloud) (23.1)\n",
      "Requirement already satisfied: pyparsing>=2.3.1 in c:\\users\\ajmalsha2712\\anaconda3\\lib\\site-packages (from matplotlib->wordcloud) (3.0.9)\n",
      "Requirement already satisfied: python-dateutil>=2.7 in c:\\users\\ajmalsha2712\\anaconda3\\lib\\site-packages (from matplotlib->wordcloud) (2.8.2)\n",
      "Requirement already satisfied: six>=1.5 in c:\\users\\ajmalsha2712\\anaconda3\\lib\\site-packages (from python-dateutil>=2.7->matplotlib->wordcloud) (1.16.0)\n",
      "Downloading wordcloud-1.9.3-cp311-cp311-win_amd64.whl (300 kB)\n",
      "   ---------------------------------------- 0.0/300.2 kB ? eta -:--:--\n",
      "   ---------------------------------------- 0.0/300.2 kB ? eta -:--:--\n",
      "   --- ----------------------------------- 30.7/300.2 kB 660.6 kB/s eta 0:00:01\n",
      "   --------------- ------------------------ 112.6/300.2 kB 1.3 MB/s eta 0:00:01\n",
      "   ---------------------------------------- 300.2/300.2 kB 2.3 MB/s eta 0:00:00\n",
      "Installing collected packages: wordcloud\n",
      "Successfully installed wordcloud-1.9.3\n"
     ]
    }
   ],
   "source": [
    "!pip install wordcloud"
   ]
  },
  {
   "cell_type": "code",
   "execution_count": 179,
   "id": "5ac1627e-5f18-4dcd-b6a3-ee9f75b9c16e",
   "metadata": {},
   "outputs": [],
   "source": [
    "from wordcloud import WordCloud\n",
    "import matplotlib.pyplot as plt"
   ]
  },
  {
   "cell_type": "code",
   "execution_count": 183,
   "id": "6314daa4-1511-4ec8-ab0f-f229bc82112b",
   "metadata": {},
   "outputs": [
    {
     "data": {
      "text/plain": [
       "'Data science combines math and statistics, specialized programming, advanced analytics, artificial intelligence (AI) and machine learning with specific subject matter expertise to uncover actionable insights hidden in an organization’s data. These insights can be used to guide decision making and strategic\\xa0planning'"
      ]
     },
     "execution_count": 183,
     "metadata": {},
     "output_type": "execute_result"
    }
   ],
   "source": [
    "txt='''Data science combines math and statistics, specialized programming, advanced analytics, artificial intelligence (AI) and machine learning with specific subject matter expertise to uncover actionable insights hidden in an organization’s data. These insights can be used to guide decision making and strategic planning'''\n",
    "txt"
   ]
  },
  {
   "cell_type": "code",
   "execution_count": 213,
   "id": "2c3430e9-9d40-4217-bc8a-1100796add08",
   "metadata": {},
   "outputs": [
    {
     "data": {
      "image/png": "[encoded data removed]",
      "text/plain": [
       "<Figure size 640x480 with 1 Axes>"
      ]
     },
     "metadata": {},
     "output_type": "display_data"
    }
   ],
   "source": [
    "# create the wordcloud object\n",
    "\n",
    "wordcloud=WordCloud(width=1000,height=1000).generate(txt)\n",
    "\n",
    "# display the generated image:\n",
    "\n",
    "plt.imshow(wordcloud)\n",
    "plt.axis('off')\n",
    "plt.show()"
   ]
  },
  {
   "cell_type": "code",
   "execution_count": 195,
   "id": "df4e8b95-39c1-4dc5-9b8b-ac1f1d886aa9",
   "metadata": {},
   "outputs": [
    {
     "data": {
      "image/png": "[encoded data removed]",
      "text/plain": [
       "<Figure size 640x480 with 1 Axes>"
      ]
     },
     "metadata": {},
     "output_type": "display_data"
    }
   ],
   "source": [
    "text2='''A word cloud is a visual representation of text data where the size of each word reflects its frequency or importance in the text. Word clouds are often used to quickly identify the most prominent terms within a body of text, making them popular in data visualization and exploratory data analysis'''\n",
    "wc=WordCloud(width=1000,height=1000).generate(text2)\n",
    "plt.imshow(wc)\n",
    "plt.axis('off')\n",
    "plt.show()"
   ]
  },
  {
   "cell_type": "code",
   "execution_count": 199,
   "id": "ae9a50fe-5492-4ed8-9368-64deafd970c0",
   "metadata": {
    "scrolled": true
   },
   "outputs": [
    {
     "name": "stdout",
     "output_type": "stream",
     "text": [
      "Requirement already satisfied: wikipedia in c:\\users\\ajmalsha2712\\anaconda3\\lib\\site-packages (1.4.0)\n",
      "Requirement already satisfied: beautifulsoup4 in c:\\users\\ajmalsha2712\\anaconda3\\lib\\site-packages (from wikipedia) (4.12.2)\n",
      "Requirement already satisfied: requests<3.0.0,>=2.0.0 in c:\\users\\ajmalsha2712\\anaconda3\\lib\\site-packages (from wikipedia) (2.31.0)\n",
      "Requirement already satisfied: charset-normalizer<4,>=2 in c:\\users\\ajmalsha2712\\anaconda3\\lib\\site-packages (from requests<3.0.0,>=2.0.0->wikipedia) (2.0.4)\n",
      "Requirement already satisfied: idna<4,>=2.5 in c:\\users\\ajmalsha2712\\anaconda3\\lib\\site-packages (from requests<3.0.0,>=2.0.0->wikipedia) (3.4)\n",
      "Requirement already satisfied: urllib3<3,>=1.21.1 in c:\\users\\ajmalsha2712\\anaconda3\\lib\\site-packages (from requests<3.0.0,>=2.0.0->wikipedia) (2.0.7)\n",
      "Requirement already satisfied: certifi>=2017.4.17 in c:\\users\\ajmalsha2712\\anaconda3\\lib\\site-packages (from requests<3.0.0,>=2.0.0->wikipedia) (2024.7.4)\n",
      "Requirement already satisfied: soupsieve>1.2 in c:\\users\\ajmalsha2712\\anaconda3\\lib\\site-packages (from beautifulsoup4->wikipedia) (2.5)\n",
      "Requirement already satisfied: pillow in c:\\users\\ajmalsha2712\\anaconda3\\lib\\site-packages (10.2.0)\n"
     ]
    }
   ],
   "source": [
    "!pip install wikipedia\n",
    "!pip install pillow"
   ]
  },
  {
   "cell_type": "code",
   "execution_count": 227,
   "id": "c5763335-bf22-4f18-a9c3-81069f243a6f",
   "metadata": {},
   "outputs": [],
   "source": [
    "from wordcloud import WordCloud,STOPWORDS\n",
    "import wikipedia\n",
    "from PIL import Image"
   ]
  },
  {
   "cell_type": "code",
   "execution_count": 231,
   "id": "491a6f97-dc1a-4338-975d-6b2f87d91650",
   "metadata": {},
   "outputs": [],
   "source": [
    "stop_w=set(STOPWORDS)\n",
    "info=wikipedia.summary('Data Science')\n",
    "word_cloud=WordCloud(stopwords=stop_w).generate(info)\n",
    "img=word_cloud.to_image()\n",
    "img.show()"
   ]
  },
  {
   "cell_type": "markdown",
   "id": "4e9d1ca8-ae25-401a-9a39-f5c8e7a48fc8",
   "metadata": {},
   "source": [
    "# Speech to Text"
   ]
  },
  {
   "cell_type": "code",
   "execution_count": 10,
   "id": "b17e4c57-8793-4cd0-875e-d42e24389722",
   "metadata": {},
   "outputs": [
    {
     "name": "stdout",
     "output_type": "stream",
     "text": [
      "Requirement already satisfied: SpeechRecognition in c:\\users\\ajmalsha2712\\anaconda3\\lib\\site-packages (3.10.4)\n",
      "Requirement already satisfied: requests>=2.26.0 in c:\\users\\ajmalsha2712\\anaconda3\\lib\\site-packages (from SpeechRecognition) (2.31.0)\n",
      "Requirement already satisfied: typing-extensions in c:\\users\\ajmalsha2712\\anaconda3\\lib\\site-packages (from SpeechRecognition) (4.9.0)\n",
      "Requirement already satisfied: charset-normalizer<4,>=2 in c:\\users\\ajmalsha2712\\anaconda3\\lib\\site-packages (from requests>=2.26.0->SpeechRecognition) (2.0.4)\n",
      "Requirement already satisfied: idna<4,>=2.5 in c:\\users\\ajmalsha2712\\anaconda3\\lib\\site-packages (from requests>=2.26.0->SpeechRecognition) (3.4)\n",
      "Requirement already satisfied: urllib3<3,>=1.21.1 in c:\\users\\ajmalsha2712\\anaconda3\\lib\\site-packages (from requests>=2.26.0->SpeechRecognition) (2.0.7)\n",
      "Requirement already satisfied: certifi>=2017.4.17 in c:\\users\\ajmalsha2712\\anaconda3\\lib\\site-packages (from requests>=2.26.0->SpeechRecognition) (2024.7.4)\n",
      "Requirement already satisfied: pyAudio in c:\\users\\ajmalsha2712\\anaconda3\\lib\\site-packages (0.2.14)\n"
     ]
    }
   ],
   "source": [
    "!pip install SpeechRecognition\n",
    "!pip install pyAudio"
   ]
  },
  {
   "cell_type": "code",
   "execution_count": null,
   "id": "95a702fb-8ebf-4a52-885a-e3900b9ef527",
   "metadata": {},
   "outputs": [],
   "source": [
    "# import speech_recognition as sr\n",
    "# r=sr.Recognizer()\n",
    "\n",
    "# while True:\n",
    "#     with sr.Microphone() as source:\n",
    "#         r.adjust_for_ambient_noise(source,duration=10)\n",
    "#         print('say anything:')\n",
    "#         audio=r.listen(source)\n",
    "#         try:\n",
    "#             text=r.recoginize_google(audio)\n",
    "#             print(text)\n",
    "#             if text=='end':\n",
    "#                 break\n",
    "#         except:\n",
    "#             print('sorry, could not recognize')"
   ]
  },
  {
   "cell_type": "code",
   "execution_count": 14,
   "id": "8352ddb5-bb94-4cc2-b07b-00f9d42afc29",
   "metadata": {},
   "outputs": [
    {
     "name": "stdout",
     "output_type": "stream",
     "text": [
      "Please say something\n",
      "Sorry, I could not understand the audio\n"
     ]
    }
   ],
   "source": [
    "import speech_recognition as sr\n",
    "\n",
    "# # Initialize the recognizer\n",
    "recognizer = sr.Recognizer()\n",
    "\n",
    "# Capture the audio from the microphone\n",
    "with sr.Microphone() as source:\n",
    "    print(\"Please say something\")\n",
    "    audio = recognizer.listen(source)\n",
    "\n",
    "try:\n",
    "#     # Recognize speech using Google Web Speech API\n",
    "    text = recognizer.recognize_google(audio)\n",
    "    print(\"You said: \" + text)\n",
    "except sr.UnknownValueError:\n",
    "    print(\"Sorry, I could not understand the audio\")\n",
    "except sr.RequestError:\n",
    "    print(\"Could not request results; check your network connection\")\n"
   ]
  },
  {
   "cell_type": "markdown",
   "id": "a85e9464-f682-43f4-8299-ffbc82daa928",
   "metadata": {},
   "source": [
    "# ChatBot"
   ]
  },
  {
   "cell_type": "code",
   "execution_count": 56,
   "id": "8fb19763-4010-499a-8a69-b7d4e0a9103c",
   "metadata": {},
   "outputs": [],
   "source": [
    "data = {'Greetings': {'query': ['hi', 'hello', 'hey', 'hey bro', 'hai', 'hello', 'how are you?', 'are you there?'],\n",
    "    'response':['Hello sir, I am her to help you.', 'Hello sir, welcome']},\n",
    "    'purpose': {'query': [\"How do you help?\", \"How can you help?\"], \n",
    "    'response': [\"I am bro, I am here to help you in queries about BMW\"]},\n",
    "    'conclude': {'query': ['Bye', 'Thank you for your help', 'Thank you', 'see you', 'okay Thanks', 'okay', 'ok'], \n",
    "    'response': ['For further enquiry please contact customer care executives at 2255']}\n",
    "       }"
   ]
  },
  {
   "cell_type": "code",
   "execution_count": 58,
   "id": "177a53d2-8b88-43bb-b34a-23dcfd9a6dd1",
   "metadata": {},
   "outputs": [],
   "source": [
    "import nltk\n",
    "from nltk.corpus import stopwords\n",
    "from nltk.stem import PorterStemmer\n",
    "import random"
   ]
  },
  {
   "cell_type": "code",
   "execution_count": 76,
   "id": "951b829d-68f2-4b13-9266-c986b3b709f7",
   "metadata": {},
   "outputs": [
    {
     "name": "stdout",
     "output_type": "stream",
     "text": [
      "hi\n",
      "hello\n",
      "hey\n",
      "hey bro\n",
      "hai\n",
      "hello\n",
      "how are you?\n",
      "are you there?\n",
      "How do you help?\n",
      "How can you help?\n",
      "Bye\n",
      "Thank you for your help\n",
      "Thank you\n",
      "see you\n",
      "okay Thanks\n",
      "okay\n",
      "ok\n"
     ]
    }
   ],
   "source": [
    "sm=PorterStemmer()\n",
    "import re\n",
    "columns=[]\n",
    "corpus=[]\n",
    "\n",
    "for events in data:\n",
    "    columns.append(events)\n",
    "    for querys in data[events]['query']:\n",
    "        print(querys)\n",
    "\n",
    "        querys=re.sub('[^a-zA-A]',' ',querys)\n",
    "        querys=querys.lower()\n",
    "        token=querys.split()\n",
    "\n",
    "        token=list(set([sm.stem(token) for token in token if token not in stopwords.words('english')]))\n",
    "        token=' '.join(token)\n",
    "        corpus.append((token,events))"
   ]
  },
  {
   "cell_type": "code",
   "execution_count": 68,
   "id": "f606127d-d5dc-4666-9352-32884b79ca3f",
   "metadata": {},
   "outputs": [
    {
     "data": {
      "text/plain": [
       "['Greetings', 'purpose', 'conclude']"
      ]
     },
     "execution_count": 68,
     "metadata": {},
     "output_type": "execute_result"
    }
   ],
   "source": [
    "columns"
   ]
  },
  {
   "cell_type": "code",
   "execution_count": 78,
   "id": "a00a342b-7046-4a85-b0ca-dcf98018f5ee",
   "metadata": {},
   "outputs": [
    {
     "data": {
      "text/plain": [
       "[('hi', 'Greetings'),\n",
       " ('hello', 'Greetings'),\n",
       " ('hey', 'Greetings'),\n",
       " ('bro hey', 'Greetings'),\n",
       " ('hai', 'Greetings'),\n",
       " ('hello', 'Greetings'),\n",
       " ('', 'Greetings'),\n",
       " ('', 'Greetings'),\n",
       " ('help ow', 'purpose'),\n",
       " ('help ow', 'purpose'),\n",
       " ('ye', 'conclude'),\n",
       " ('hank help', 'conclude'),\n",
       " ('hank', 'conclude'),\n",
       " ('see', 'conclude'),\n",
       " ('okay hank', 'conclude'),\n",
       " ('okay', 'conclude'),\n",
       " ('ok', 'conclude')]"
      ]
     },
     "execution_count": 78,
     "metadata": {},
     "output_type": "execute_result"
    }
   ],
   "source": [
    "corpus"
   ]
  },
  {
   "cell_type": "code",
   "execution_count": 82,
   "id": "e00d34ac-f834-4cbc-b9cc-fbcce9419b91",
   "metadata": {},
   "outputs": [],
   "source": [
    "xdata=[]\n",
    "ydata=[]\n",
    "for (patterns,eve) in corpus:\n",
    "    xdata.append(patterns)\n",
    "    ydata.append(columns.index(eve))"
   ]
  },
  {
   "cell_type": "code",
   "execution_count": 84,
   "id": "74a8df27-9aac-4f8e-85df-e8e646d38a4a",
   "metadata": {},
   "outputs": [
    {
     "data": {
      "text/plain": [
       "['hi',\n",
       " 'hello',\n",
       " 'hey',\n",
       " 'bro hey',\n",
       " 'hai',\n",
       " 'hello',\n",
       " '',\n",
       " '',\n",
       " 'help ow',\n",
       " 'help ow',\n",
       " 'ye',\n",
       " 'hank help',\n",
       " 'hank',\n",
       " 'see',\n",
       " 'okay hank',\n",
       " 'okay',\n",
       " 'ok']"
      ]
     },
     "execution_count": 84,
     "metadata": {},
     "output_type": "execute_result"
    }
   ],
   "source": [
    "xdata"
   ]
  },
  {
   "cell_type": "code",
   "execution_count": 86,
   "id": "9b6c0f98-cde6-4eda-99fb-4c873b2dd8df",
   "metadata": {},
   "outputs": [
    {
     "data": {
      "text/plain": [
       "[0, 0, 0, 0, 0, 0, 0, 0, 1, 1, 2, 2, 2, 2, 2, 2, 2]"
      ]
     },
     "execution_count": 86,
     "metadata": {},
     "output_type": "execute_result"
    }
   ],
   "source": [
    "ydata"
   ]
  },
  {
   "cell_type": "code",
   "execution_count": 92,
   "id": "c0df642f-41a4-4669-b1f6-ec603dced953",
   "metadata": {},
   "outputs": [],
   "source": [
    "import numpy as np\n",
    "import sklearn\n",
    "from sklearn.feature_extraction.text import TfidfVectorizer\n",
    "tf=TfidfVectorizer()\n",
    "x=tf.fit_transform(xdata).toarray()\n",
    "y=np.array(ydata)"
   ]
  },
  {
   "cell_type": "code",
   "execution_count": 94,
   "id": "120de609-e0b6-4d1e-8ce0-fbf4a1659176",
   "metadata": {},
   "outputs": [
    {
     "data": {
      "text/plain": [
       "array([[0.        , 0.        , 0.        , 0.        , 0.        ,\n",
       "        0.        , 1.        , 0.        , 0.        , 0.        ,\n",
       "        0.        , 0.        ],\n",
       "       [0.        , 0.        , 0.        , 1.        , 0.        ,\n",
       "        0.        , 0.        , 0.        , 0.        , 0.        ,\n",
       "        0.        , 0.        ],\n",
       "       [0.        , 0.        , 0.        , 0.        , 0.        ,\n",
       "        1.        , 0.        , 0.        , 0.        , 0.        ,\n",
       "        0.        , 0.        ],\n",
       "       [0.75325488, 0.        , 0.        , 0.        , 0.        ,\n",
       "        0.65772873, 0.        , 0.        , 0.        , 0.        ,\n",
       "        0.        , 0.        ],\n",
       "       [0.        , 1.        , 0.        , 0.        , 0.        ,\n",
       "        0.        , 0.        , 0.        , 0.        , 0.        ,\n",
       "        0.        , 0.        ],\n",
       "       [0.        , 0.        , 0.        , 1.        , 0.        ,\n",
       "        0.        , 0.        , 0.        , 0.        , 0.        ,\n",
       "        0.        , 0.        ],\n",
       "       [0.        , 0.        , 0.        , 0.        , 0.        ,\n",
       "        0.        , 0.        , 0.        , 0.        , 0.        ,\n",
       "        0.        , 0.        ],\n",
       "       [0.        , 0.        , 0.        , 0.        , 0.        ,\n",
       "        0.        , 0.        , 0.        , 0.        , 0.        ,\n",
       "        0.        , 0.        ],\n",
       "       [0.        , 0.        , 0.        , 0.        , 0.66771066,\n",
       "        0.        , 0.        , 0.        , 0.        , 0.7444209 ,\n",
       "        0.        , 0.        ],\n",
       "       [0.        , 0.        , 0.        , 0.        , 0.66771066,\n",
       "        0.        , 0.        , 0.        , 0.        , 0.7444209 ,\n",
       "        0.        , 0.        ],\n",
       "       [0.        , 0.        , 0.        , 0.        , 0.        ,\n",
       "        0.        , 0.        , 0.        , 0.        , 0.        ,\n",
       "        0.        , 1.        ],\n",
       "       [0.        , 0.        , 0.70710678, 0.        , 0.70710678,\n",
       "        0.        , 0.        , 0.        , 0.        , 0.        ,\n",
       "        0.        , 0.        ],\n",
       "       [0.        , 0.        , 1.        , 0.        , 0.        ,\n",
       "        0.        , 0.        , 0.        , 0.        , 0.        ,\n",
       "        0.        , 0.        ],\n",
       "       [0.        , 0.        , 0.        , 0.        , 0.        ,\n",
       "        0.        , 0.        , 0.        , 0.        , 0.        ,\n",
       "        1.        , 0.        ],\n",
       "       [0.        , 0.        , 0.66771066, 0.        , 0.        ,\n",
       "        0.        , 0.        , 0.        , 0.7444209 , 0.        ,\n",
       "        0.        , 0.        ],\n",
       "       [0.        , 0.        , 0.        , 0.        , 0.        ,\n",
       "        0.        , 0.        , 0.        , 1.        , 0.        ,\n",
       "        0.        , 0.        ],\n",
       "       [0.        , 0.        , 0.        , 0.        , 0.        ,\n",
       "        0.        , 0.        , 1.        , 0.        , 0.        ,\n",
       "        0.        , 0.        ]])"
      ]
     },
     "execution_count": 94,
     "metadata": {},
     "output_type": "execute_result"
    }
   ],
   "source": [
    "x"
   ]
  },
  {
   "cell_type": "code",
   "execution_count": 96,
   "id": "03abc9d3-3685-4f5a-9560-dc99ed77f1df",
   "metadata": {},
   "outputs": [
    {
     "data": {
      "text/plain": [
       "array([0, 0, 0, 0, 0, 0, 0, 0, 1, 1, 2, 2, 2, 2, 2, 2, 2])"
      ]
     },
     "execution_count": 96,
     "metadata": {},
     "output_type": "execute_result"
    }
   ],
   "source": [
    "y"
   ]
  },
  {
   "cell_type": "code",
   "execution_count": 112,
   "id": "6cbe87ab-2d33-434a-be90-f15998f264f9",
   "metadata": {},
   "outputs": [],
   "source": [
    "from sklearn.naive_bayes import GaussianNB\n",
    "model1=GaussianNB().fit(x,y)"
   ]
  },
  {
   "cell_type": "code",
   "execution_count": 116,
   "id": "940cb3fe-3fe1-4f9f-b176-dbaeccb6ab3e",
   "metadata": {},
   "outputs": [
    {
     "name": "stdout",
     "output_type": "stream",
     "text": [
      "let's chat: type 'Quit' to exit\n"
     ]
    },
    {
     "name": "stdin",
     "output_type": "stream",
     "text": [
      "you: how are you\n"
     ]
    },
    {
     "name": "stdout",
     "output_type": "stream",
     "text": [
      "Bro:Hello sir, welcome\n"
     ]
    },
    {
     "name": "stdin",
     "output_type": "stream",
     "text": [
      "you: what\n"
     ]
    },
    {
     "name": "stdout",
     "output_type": "stream",
     "text": [
      "Bro:Hello sir, I am her to help you.\n"
     ]
    },
    {
     "name": "stdin",
     "output_type": "stream",
     "text": [
      "you: g\n"
     ]
    },
    {
     "name": "stdout",
     "output_type": "stream",
     "text": [
      "Bro:Hello sir, I am her to help you.\n"
     ]
    },
    {
     "name": "stdin",
     "output_type": "stream",
     "text": [
      "you: sdrey\n"
     ]
    },
    {
     "name": "stdout",
     "output_type": "stream",
     "text": [
      "Bro:Hello sir, I am her to help you.\n"
     ]
    },
    {
     "name": "stdin",
     "output_type": "stream",
     "text": [
      "you: bro\n"
     ]
    },
    {
     "name": "stdout",
     "output_type": "stream",
     "text": [
      "Bro:Hello sir, I am her to help you.\n"
     ]
    },
    {
     "name": "stdin",
     "output_type": "stream",
     "text": [
      "you: bro hey\n"
     ]
    },
    {
     "name": "stdout",
     "output_type": "stream",
     "text": [
      "Bro:Hello sir, welcome\n"
     ]
    },
    {
     "name": "stdin",
     "output_type": "stream",
     "text": [
      "you: help\n"
     ]
    },
    {
     "name": "stdout",
     "output_type": "stream",
     "text": [
      "Bro:For further enquiry please contact customer care executives at 2255\n"
     ]
    },
    {
     "name": "stdin",
     "output_type": "stream",
     "text": [
      "you: help ow\n"
     ]
    },
    {
     "name": "stdout",
     "output_type": "stream",
     "text": [
      "Bro:I am bro, I am here to help you in queries about BMW\n"
     ]
    },
    {
     "name": "stdin",
     "output_type": "stream",
     "text": [
      "you: Quit\n"
     ]
    },
    {
     "name": "stdout",
     "output_type": "stream",
     "text": [
      "Bro :Glad to chat with you,take care,bye\n"
     ]
    }
   ],
   "source": [
    "botname='Bro'\n",
    "print(\"let's chat: type 'Quit' to exit\")\n",
    "while(True):\n",
    "    temp=[]\n",
    "    a=input('you:')\n",
    "    if a.lower()=='quit':\n",
    "        print(botname,':Glad to chat with you,take care,bye')\n",
    "        break\n",
    "    else:\n",
    "        a=re.sub('[^a-zA-Z]',' ',a)\n",
    "        a=a.lower()\n",
    "        a=a.split()\n",
    "\n",
    "        token=[sm.stem(token) for token in a if token not in stopwords.words('english')]\n",
    "        token=' '.join(token)\n",
    "        temp.append(token)\n",
    "        test=tf.transform(temp).toarray()\n",
    "        predicted=np.max(model1.predict(test))\n",
    "\n",
    "        classes=columns[predicted]\n",
    "        for events in data:\n",
    "            if classes==events:\n",
    "                print(f\"{botname}:{random.choice(data[events]['response'])}\")"
   ]
  },
  {
   "cell_type": "markdown",
   "id": "69cda941-a66c-456a-b1e0-b10773888a71",
   "metadata": {},
   "source": [
    "# Pos Tagging"
   ]
  },
  {
   "cell_type": "code",
   "execution_count": 123,
   "id": "dffce7e8-9f91-4b01-bde4-1085d9f0ef6f",
   "metadata": {},
   "outputs": [
    {
     "name": "stdout",
     "output_type": "stream",
     "text": [
      "[('The', 'DT'), ('quick', 'JJ'), ('brown', 'NN'), ('fox', 'NN'), ('jumps', 'VBZ'), ('over', 'IN'), ('the', 'DT'), ('lazy', 'JJ'), ('dog', 'NN'), ('.', '.')]\n"
     ]
    },
    {
     "name": "stderr",
     "output_type": "stream",
     "text": [
      "[nltk_data] Downloading package punkt to\n",
      "[nltk_data]     C:\\Users\\Ajmalsha2712\\AppData\\Roaming\\nltk_data...\n",
      "[nltk_data]   Package punkt is already up-to-date!\n",
      "[nltk_data] Downloading package averaged_perceptron_tagger to\n",
      "[nltk_data]     C:\\Users\\Ajmalsha2712\\AppData\\Roaming\\nltk_data...\n",
      "[nltk_data]   Package averaged_perceptron_tagger is already up-to-\n",
      "[nltk_data]       date!\n"
     ]
    }
   ],
   "source": [
    "import nltk\n",
    "from nltk.tokenize import word_tokenize\n",
    "from nltk import pos_tag\n",
    "\n",
    "# Download necessary NLTK data files (only needed once)\n",
    "nltk.download('punkt')\n",
    "nltk.download('averaged_perceptron_tagger')\n",
    "\n",
    "# Example sentence\n",
    "sentence = \"The quick brown fox jumps over the lazy dog.\"\n",
    "\n",
    "# Tokenize the sentence into words\n",
    "words = word_tokenize(sentence)\n",
    "\n",
    "# Perform POS tagging\n",
    "tagged_words = pos_tag(words)\n",
    "\n",
    "# Output the tagged words\n",
    "print(tagged_words)\n"
   ]
  },
  {
   "cell_type": "markdown",
   "id": "90b73aa3-bba6-4497-8da4-d53cf4aaeeab",
   "metadata": {},
   "source": [
    "# Named Entity Recogneter (NER)"
   ]
  },
  {
   "cell_type": "code",
   "execution_count": 130,
   "id": "58c045ff-e368-4db8-9bd1-1e0744dbe6db",
   "metadata": {
    "scrolled": true
   },
   "outputs": [
    {
     "name": "stdout",
     "output_type": "stream",
     "text": [
      "Collecting spacy\n",
      "  Downloading spacy-3.7.6-cp311-cp311-win_amd64.whl.metadata (27 kB)\n",
      "Collecting spacy-legacy<3.1.0,>=3.0.11 (from spacy)\n",
      "  Downloading spacy_legacy-3.0.12-py2.py3-none-any.whl.metadata (2.8 kB)\n",
      "Collecting spacy-loggers<2.0.0,>=1.0.0 (from spacy)\n",
      "  Downloading spacy_loggers-1.0.5-py3-none-any.whl.metadata (23 kB)\n",
      "Collecting murmurhash<1.1.0,>=0.28.0 (from spacy)\n",
      "  Downloading murmurhash-1.0.10-cp311-cp311-win_amd64.whl.metadata (2.0 kB)\n",
      "Collecting cymem<2.1.0,>=2.0.2 (from spacy)\n",
      "  Downloading cymem-2.0.8-cp311-cp311-win_amd64.whl.metadata (8.6 kB)\n",
      "Collecting preshed<3.1.0,>=3.0.2 (from spacy)\n",
      "  Downloading preshed-3.0.9-cp311-cp311-win_amd64.whl.metadata (2.2 kB)\n",
      "Collecting thinc<8.3.0,>=8.2.2 (from spacy)\n",
      "  Downloading thinc-8.2.5-cp311-cp311-win_amd64.whl.metadata (15 kB)\n",
      "Collecting wasabi<1.2.0,>=0.9.1 (from spacy)\n",
      "  Downloading wasabi-1.1.3-py3-none-any.whl.metadata (28 kB)\n",
      "Collecting srsly<3.0.0,>=2.4.3 (from spacy)\n",
      "  Downloading srsly-2.4.8-cp311-cp311-win_amd64.whl.metadata (20 kB)\n",
      "Collecting catalogue<2.1.0,>=2.0.6 (from spacy)\n",
      "  Downloading catalogue-2.0.10-py3-none-any.whl.metadata (14 kB)\n",
      "Collecting weasel<0.5.0,>=0.1.0 (from spacy)\n",
      "  Downloading weasel-0.4.1-py3-none-any.whl.metadata (4.6 kB)\n",
      "Collecting typer<1.0.0,>=0.3.0 (from spacy)\n",
      "  Downloading typer-0.12.4-py3-none-any.whl.metadata (15 kB)\n",
      "Requirement already satisfied: tqdm<5.0.0,>=4.38.0 in c:\\users\\ajmalsha2712\\anaconda3\\lib\\site-packages (from spacy) (4.65.0)\n",
      "Requirement already satisfied: requests<3.0.0,>=2.13.0 in c:\\users\\ajmalsha2712\\anaconda3\\lib\\site-packages (from spacy) (2.31.0)\n",
      "Requirement already satisfied: pydantic!=1.8,!=1.8.1,<3.0.0,>=1.7.4 in c:\\users\\ajmalsha2712\\anaconda3\\lib\\site-packages (from spacy) (1.10.12)\n",
      "Requirement already satisfied: jinja2 in c:\\users\\ajmalsha2712\\anaconda3\\lib\\site-packages (from spacy) (3.1.3)\n",
      "Requirement already satisfied: setuptools in c:\\users\\ajmalsha2712\\anaconda3\\lib\\site-packages (from spacy) (68.2.2)\n",
      "Requirement already satisfied: packaging>=20.0 in c:\\users\\ajmalsha2712\\anaconda3\\lib\\site-packages (from spacy) (23.1)\n",
      "Collecting langcodes<4.0.0,>=3.2.0 (from spacy)\n",
      "  Downloading langcodes-3.4.0-py3-none-any.whl.metadata (29 kB)\n",
      "Requirement already satisfied: numpy>=1.19.0 in c:\\users\\ajmalsha2712\\anaconda3\\lib\\site-packages (from spacy) (1.24.4)\n",
      "Collecting language-data>=1.2 (from langcodes<4.0.0,>=3.2.0->spacy)\n",
      "  Downloading language_data-1.2.0-py3-none-any.whl.metadata (4.3 kB)\n",
      "Requirement already satisfied: typing-extensions>=4.2.0 in c:\\users\\ajmalsha2712\\anaconda3\\lib\\site-packages (from pydantic!=1.8,!=1.8.1,<3.0.0,>=1.7.4->spacy) (4.9.0)\n",
      "Requirement already satisfied: charset-normalizer<4,>=2 in c:\\users\\ajmalsha2712\\anaconda3\\lib\\site-packages (from requests<3.0.0,>=2.13.0->spacy) (2.0.4)\n",
      "Requirement already satisfied: idna<4,>=2.5 in c:\\users\\ajmalsha2712\\anaconda3\\lib\\site-packages (from requests<3.0.0,>=2.13.0->spacy) (3.4)\n",
      "Requirement already satisfied: urllib3<3,>=1.21.1 in c:\\users\\ajmalsha2712\\anaconda3\\lib\\site-packages (from requests<3.0.0,>=2.13.0->spacy) (2.0.7)\n",
      "Requirement already satisfied: certifi>=2017.4.17 in c:\\users\\ajmalsha2712\\anaconda3\\lib\\site-packages (from requests<3.0.0,>=2.13.0->spacy) (2024.7.4)\n",
      "Collecting blis<0.8.0,>=0.7.8 (from thinc<8.3.0,>=8.2.2->spacy)\n",
      "  Downloading blis-0.7.11-cp311-cp311-win_amd64.whl.metadata (7.6 kB)\n",
      "Collecting confection<1.0.0,>=0.0.1 (from thinc<8.3.0,>=8.2.2->spacy)\n",
      "  Downloading confection-0.1.5-py3-none-any.whl.metadata (19 kB)\n",
      "Requirement already satisfied: colorama in c:\\users\\ajmalsha2712\\anaconda3\\lib\\site-packages (from tqdm<5.0.0,>=4.38.0->spacy) (0.4.6)\n",
      "Requirement already satisfied: click>=8.0.0 in c:\\users\\ajmalsha2712\\anaconda3\\lib\\site-packages (from typer<1.0.0,>=0.3.0->spacy) (8.1.7)\n",
      "Collecting shellingham>=1.3.0 (from typer<1.0.0,>=0.3.0->spacy)\n",
      "  Downloading shellingham-1.5.4-py2.py3-none-any.whl.metadata (3.5 kB)\n",
      "Requirement already satisfied: rich>=10.11.0 in c:\\users\\ajmalsha2712\\anaconda3\\lib\\site-packages (from typer<1.0.0,>=0.3.0->spacy) (13.3.5)\n",
      "Collecting cloudpathlib<1.0.0,>=0.7.0 (from weasel<0.5.0,>=0.1.0->spacy)\n",
      "  Downloading cloudpathlib-0.18.1-py3-none-any.whl.metadata (14 kB)\n",
      "Requirement already satisfied: smart-open<8.0.0,>=5.2.1 in c:\\users\\ajmalsha2712\\anaconda3\\lib\\site-packages (from weasel<0.5.0,>=0.1.0->spacy) (5.2.1)\n",
      "Requirement already satisfied: MarkupSafe>=2.0 in c:\\users\\ajmalsha2712\\anaconda3\\lib\\site-packages (from jinja2->spacy) (2.1.3)\n",
      "Collecting marisa-trie>=0.7.7 (from language-data>=1.2->langcodes<4.0.0,>=3.2.0->spacy)\n",
      "  Downloading marisa_trie-1.2.0-cp311-cp311-win_amd64.whl.metadata (9.0 kB)\n",
      "Requirement already satisfied: markdown-it-py<3.0.0,>=2.2.0 in c:\\users\\ajmalsha2712\\anaconda3\\lib\\site-packages (from rich>=10.11.0->typer<1.0.0,>=0.3.0->spacy) (2.2.0)\n",
      "Requirement already satisfied: pygments<3.0.0,>=2.13.0 in c:\\users\\ajmalsha2712\\anaconda3\\lib\\site-packages (from rich>=10.11.0->typer<1.0.0,>=0.3.0->spacy) (2.15.1)\n",
      "Requirement already satisfied: mdurl~=0.1 in c:\\users\\ajmalsha2712\\anaconda3\\lib\\site-packages (from markdown-it-py<3.0.0,>=2.2.0->rich>=10.11.0->typer<1.0.0,>=0.3.0->spacy) (0.1.0)\n",
      "Downloading spacy-3.7.6-cp311-cp311-win_amd64.whl (12.1 MB)\n",
      "   ---------------------------------------- 0.0/12.1 MB ? eta -:--:--\n",
      "   - -------------------------------------- 0.4/12.1 MB 13.2 MB/s eta 0:00:01\n",
      "   --- ------------------------------------ 1.0/12.1 MB 12.3 MB/s eta 0:00:01\n",
      "   ----- ---------------------------------- 1.6/12.1 MB 11.1 MB/s eta 0:00:01\n",
      "   ------- -------------------------------- 2.2/12.1 MB 11.4 MB/s eta 0:00:01\n",
      "   -------- ------------------------------- 2.7/12.1 MB 11.6 MB/s eta 0:00:01\n",
      "   ---------- ----------------------------- 3.3/12.1 MB 11.7 MB/s eta 0:00:01\n",
      "   ------------ --------------------------- 3.9/12.1 MB 11.7 MB/s eta 0:00:01\n",
      "   -------------- ------------------------- 4.4/12.1 MB 11.7 MB/s eta 0:00:01\n",
      "   ---------------- ----------------------- 5.0/12.1 MB 11.7 MB/s eta 0:00:01\n",
      "   ------------------ --------------------- 5.5/12.1 MB 11.8 MB/s eta 0:00:01\n",
      "   -------------------- ------------------- 6.1/12.1 MB 11.8 MB/s eta 0:00:01\n",
      "   --------------------- ------------------ 6.7/12.1 MB 11.8 MB/s eta 0:00:01\n",
      "   ----------------------- ---------------- 7.2/12.1 MB 11.8 MB/s eta 0:00:01\n",
      "   ------------------------- -------------- 7.8/12.1 MB 11.9 MB/s eta 0:00:01\n",
      "   --------------------------- ------------ 8.3/12.1 MB 11.8 MB/s eta 0:00:01\n",
      "   ----------------------------- ---------- 8.9/12.1 MB 11.9 MB/s eta 0:00:01\n",
      "   ------------------------------- -------- 9.5/12.1 MB 11.9 MB/s eta 0:00:01\n",
      "   --------------------------------- ------ 10.0/12.1 MB 11.9 MB/s eta 0:00:01\n",
      "   ---------------------------------- ----- 10.6/12.1 MB 11.9 MB/s eta 0:00:01\n",
      "   ------------------------------------ --- 11.2/12.1 MB 11.9 MB/s eta 0:00:01\n",
      "   -------------------------------------- - 11.7/12.1 MB 11.9 MB/s eta 0:00:01\n",
      "   ---------------------------------------  12.1/12.1 MB 11.7 MB/s eta 0:00:01\n",
      "   ---------------------------------------- 12.1/12.1 MB 11.3 MB/s eta 0:00:00\n",
      "Downloading catalogue-2.0.10-py3-none-any.whl (17 kB)\n",
      "Downloading cymem-2.0.8-cp311-cp311-win_amd64.whl (39 kB)\n",
      "Downloading langcodes-3.4.0-py3-none-any.whl (182 kB)\n",
      "   ---------------------------------------- 0.0/182.0 kB ? eta -:--:--\n",
      "   ---------------------------------------- 182.0/182.0 kB 5.5 MB/s eta 0:00:00\n",
      "Downloading murmurhash-1.0.10-cp311-cp311-win_amd64.whl (25 kB)\n",
      "Downloading preshed-3.0.9-cp311-cp311-win_amd64.whl (122 kB)\n",
      "   ---------------------------------------- 0.0/122.3 kB ? eta -:--:--\n",
      "   ---------------------------------------- 122.3/122.3 kB 7.5 MB/s eta 0:00:00\n",
      "Downloading spacy_legacy-3.0.12-py2.py3-none-any.whl (29 kB)\n",
      "Downloading spacy_loggers-1.0.5-py3-none-any.whl (22 kB)\n",
      "Downloading srsly-2.4.8-cp311-cp311-win_amd64.whl (479 kB)\n",
      "   ---------------------------------------- 0.0/479.7 kB ? eta -:--:--\n",
      "   --------------------------------------  471.0/479.7 kB 14.9 MB/s eta 0:00:01\n",
      "   --------------------------------------- 479.7/479.7 kB 10.0 MB/s eta 0:00:00\n",
      "Downloading thinc-8.2.5-cp311-cp311-win_amd64.whl (1.5 MB)\n",
      "   ---------------------------------------- 0.0/1.5 MB ? eta -:--:--\n",
      "   ---------------- ----------------------- 0.6/1.5 MB 18.2 MB/s eta 0:00:01\n",
      "   ------------------------------ --------- 1.1/1.5 MB 12.1 MB/s eta 0:00:01\n",
      "   ---------------------------------------- 1.5/1.5 MB 11.8 MB/s eta 0:00:00\n",
      "Downloading typer-0.12.4-py3-none-any.whl (47 kB)\n",
      "   ---------------------------------------- 0.0/47.4 kB ? eta -:--:--\n",
      "   ---------------------------------------- 47.4/47.4 kB 2.5 MB/s eta 0:00:00\n",
      "Downloading wasabi-1.1.3-py3-none-any.whl (27 kB)\n",
      "Downloading weasel-0.4.1-py3-none-any.whl (50 kB)\n",
      "   ---------------------------------------- 0.0/50.3 kB ? eta -:--:--\n",
      "   ---------------------------------------- 50.3/50.3 kB 2.7 MB/s eta 0:00:00\n",
      "Downloading blis-0.7.11-cp311-cp311-win_amd64.whl (6.6 MB)\n",
      "   ---------------------------------------- 0.0/6.6 MB ? eta -:--:--\n",
      "   --- ------------------------------------ 0.5/6.6 MB 15.9 MB/s eta 0:00:01\n",
      "   ------ --------------------------------- 1.1/6.6 MB 13.4 MB/s eta 0:00:01\n",
      "   --------- ------------------------------ 1.6/6.6 MB 12.9 MB/s eta 0:00:01\n",
      "   ------------- -------------------------- 2.2/6.6 MB 12.8 MB/s eta 0:00:01\n",
      "   ---------------- ----------------------- 2.8/6.6 MB 12.6 MB/s eta 0:00:01\n",
      "   -------------------- ------------------- 3.3/6.6 MB 12.5 MB/s eta 0:00:01\n",
      "   ----------------------- ---------------- 3.9/6.6 MB 12.4 MB/s eta 0:00:01\n",
      "   -------------------------- ------------- 4.4/6.6 MB 12.4 MB/s eta 0:00:01\n",
      "   ----------------------------- ---------- 4.9/6.6 MB 12.1 MB/s eta 0:00:01\n",
      "   -------------------------------- ------- 5.4/6.6 MB 11.9 MB/s eta 0:00:01\n",
      "   ------------------------------------ --- 6.0/6.6 MB 12.0 MB/s eta 0:00:01\n",
      "   ---------------------------------------  6.6/6.6 MB 12.0 MB/s eta 0:00:01\n",
      "   ---------------------------------------- 6.6/6.6 MB 11.4 MB/s eta 0:00:00\n",
      "Downloading cloudpathlib-0.18.1-py3-none-any.whl (47 kB)\n",
      "   ---------------------------------------- 0.0/47.3 kB ? eta -:--:--\n",
      "   ---------------------------------------- 47.3/47.3 kB 2.3 MB/s eta 0:00:00\n",
      "Downloading confection-0.1.5-py3-none-any.whl (35 kB)\n",
      "Downloading language_data-1.2.0-py3-none-any.whl (5.4 MB)\n",
      "   ---------------------------------------- 0.0/5.4 MB ? eta -:--:--\n",
      "   ---- ----------------------------------- 0.6/5.4 MB 11.5 MB/s eta 0:00:01\n",
      "   -------- ------------------------------- 1.1/5.4 MB 11.9 MB/s eta 0:00:01\n",
      "   ------------ --------------------------- 1.7/5.4 MB 11.9 MB/s eta 0:00:01\n",
      "   ---------------- ----------------------- 2.3/5.4 MB 11.9 MB/s eta 0:00:01\n",
      "   -------------------- ------------------- 2.8/5.4 MB 12.0 MB/s eta 0:00:01\n",
      "   ------------------------- -------------- 3.4/5.4 MB 11.9 MB/s eta 0:00:01\n",
      "   ----------------------------- ---------- 4.0/5.4 MB 12.0 MB/s eta 0:00:01\n",
      "   --------------------------------- ------ 4.5/5.4 MB 12.0 MB/s eta 0:00:01\n",
      "   ------------------------------------- -- 5.1/5.4 MB 12.0 MB/s eta 0:00:01\n",
      "   ---------------------------------------  5.4/5.4 MB 11.8 MB/s eta 0:00:01\n",
      "   ---------------------------------------- 5.4/5.4 MB 11.1 MB/s eta 0:00:00\n",
      "Downloading shellingham-1.5.4-py2.py3-none-any.whl (9.8 kB)\n",
      "Downloading marisa_trie-1.2.0-cp311-cp311-win_amd64.whl (152 kB)\n",
      "   ---------------------------------------- 0.0/152.6 kB ? eta -:--:--\n",
      "   ---------------------------------------- 152.6/152.6 kB 8.9 MB/s eta 0:00:00\n",
      "Installing collected packages: cymem, wasabi, spacy-loggers, spacy-legacy, shellingham, murmurhash, marisa-trie, cloudpathlib, catalogue, blis, srsly, preshed, language-data, typer, langcodes, confection, weasel, thinc, spacy\n",
      "Successfully installed blis-0.7.11 catalogue-2.0.10 cloudpathlib-0.18.1 confection-0.1.5 cymem-2.0.8 langcodes-3.4.0 language-data-1.2.0 marisa-trie-1.2.0 murmurhash-1.0.10 preshed-3.0.9 shellingham-1.5.4 spacy-3.7.6 spacy-legacy-3.0.12 spacy-loggers-1.0.5 srsly-2.4.8 thinc-8.2.5 typer-0.12.4 wasabi-1.1.3 weasel-0.4.1\n",
      "Collecting en-core-web-sm==3.7.1\n",
      "  Downloading https://github.com/explosion/spacy-models/releases/download/en_core_web_sm-3.7.1/en_core_web_sm-3.7.1-py3-none-any.whl (12.8 MB)\n",
      "     ---------------------------------------- 0.0/12.8 MB ? eta -:--:--\n",
      "     ---------------------------------------- 0.0/12.8 MB ? eta -:--:--\n",
      "     --------------------------------------- 0.0/12.8 MB 217.9 kB/s eta 0:00:59\n",
      "     --------------------------------------- 0.1/12.8 MB 544.7 kB/s eta 0:00:24\n",
      "     - -------------------------------------- 0.4/12.8 MB 2.5 MB/s eta 0:00:05\n",
      "     --- ------------------------------------ 1.0/12.8 MB 4.7 MB/s eta 0:00:03\n",
      "     ---- ----------------------------------- 1.4/12.8 MB 5.7 MB/s eta 0:00:02\n",
      "     ------ --------------------------------- 2.0/12.8 MB 7.1 MB/s eta 0:00:02\n",
      "     -------- ------------------------------- 2.6/12.8 MB 7.5 MB/s eta 0:00:02\n",
      "     --------- ------------------------------ 3.2/12.8 MB 8.4 MB/s eta 0:00:02\n",
      "     ----------- ---------------------------- 3.7/12.8 MB 8.4 MB/s eta 0:00:02\n",
      "     ------------- -------------------------- 4.2/12.8 MB 8.9 MB/s eta 0:00:01\n",
      "     -------------- ------------------------- 4.7/12.8 MB 8.9 MB/s eta 0:00:01\n",
      "     ---------------- ----------------------- 5.3/12.8 MB 9.2 MB/s eta 0:00:01\n",
      "     ----------------- ---------------------- 5.8/12.8 MB 9.4 MB/s eta 0:00:01\n",
      "     ------------------- -------------------- 6.3/12.8 MB 9.6 MB/s eta 0:00:01\n",
      "     --------------------- ------------------ 6.9/12.8 MB 9.8 MB/s eta 0:00:01\n",
      "     ----------------------- ---------------- 7.5/12.8 MB 10.0 MB/s eta 0:00:01\n",
      "     ------------------------- -------------- 8.0/12.8 MB 10.1 MB/s eta 0:00:01\n",
      "     -------------------------- ------------- 8.5/12.8 MB 10.1 MB/s eta 0:00:01\n",
      "     ---------------------------- ----------- 9.1/12.8 MB 10.2 MB/s eta 0:00:01\n",
      "     ------------------------------ --------- 9.7/12.8 MB 10.3 MB/s eta 0:00:01\n",
      "     ------------------------------- ------- 10.2/12.8 MB 10.4 MB/s eta 0:00:01\n",
      "     -------------------------------- ------ 10.8/12.8 MB 11.9 MB/s eta 0:00:01\n",
      "     ---------------------------------- ---- 11.4/12.8 MB 11.9 MB/s eta 0:00:01\n",
      "     ------------------------------------ -- 12.0/12.8 MB 11.7 MB/s eta 0:00:01\n",
      "     --------------------------------------  12.6/12.8 MB 11.7 MB/s eta 0:00:01\n",
      "     --------------------------------------  12.8/12.8 MB 11.9 MB/s eta 0:00:01\n",
      "     --------------------------------------  12.8/12.8 MB 11.9 MB/s eta 0:00:01\n",
      "     --------------------------------------- 12.8/12.8 MB 10.7 MB/s eta 0:00:00\n",
      "Requirement already satisfied: spacy<3.8.0,>=3.7.2 in c:\\users\\ajmalsha2712\\anaconda3\\lib\\site-packages (from en-core-web-sm==3.7.1) (3.7.6)\n",
      "Requirement already satisfied: spacy-legacy<3.1.0,>=3.0.11 in c:\\users\\ajmalsha2712\\anaconda3\\lib\\site-packages (from spacy<3.8.0,>=3.7.2->en-core-web-sm==3.7.1) (3.0.12)\n",
      "Requirement already satisfied: spacy-loggers<2.0.0,>=1.0.0 in c:\\users\\ajmalsha2712\\anaconda3\\lib\\site-packages (from spacy<3.8.0,>=3.7.2->en-core-web-sm==3.7.1) (1.0.5)\n",
      "Requirement already satisfied: murmurhash<1.1.0,>=0.28.0 in c:\\users\\ajmalsha2712\\anaconda3\\lib\\site-packages (from spacy<3.8.0,>=3.7.2->en-core-web-sm==3.7.1) (1.0.10)\n",
      "Requirement already satisfied: cymem<2.1.0,>=2.0.2 in c:\\users\\ajmalsha2712\\anaconda3\\lib\\site-packages (from spacy<3.8.0,>=3.7.2->en-core-web-sm==3.7.1) (2.0.8)\n",
      "Requirement already satisfied: preshed<3.1.0,>=3.0.2 in c:\\users\\ajmalsha2712\\anaconda3\\lib\\site-packages (from spacy<3.8.0,>=3.7.2->en-core-web-sm==3.7.1) (3.0.9)\n",
      "Requirement already satisfied: thinc<8.3.0,>=8.2.2 in c:\\users\\ajmalsha2712\\anaconda3\\lib\\site-packages (from spacy<3.8.0,>=3.7.2->en-core-web-sm==3.7.1) (8.2.5)\n",
      "Requirement already satisfied: wasabi<1.2.0,>=0.9.1 in c:\\users\\ajmalsha2712\\anaconda3\\lib\\site-packages (from spacy<3.8.0,>=3.7.2->en-core-web-sm==3.7.1) (1.1.3)\n",
      "Requirement already satisfied: srsly<3.0.0,>=2.4.3 in c:\\users\\ajmalsha2712\\anaconda3\\lib\\site-packages (from spacy<3.8.0,>=3.7.2->en-core-web-sm==3.7.1) (2.4.8)\n",
      "Requirement already satisfied: catalogue<2.1.0,>=2.0.6 in c:\\users\\ajmalsha2712\\anaconda3\\lib\\site-packages (from spacy<3.8.0,>=3.7.2->en-core-web-sm==3.7.1) (2.0.10)\n",
      "Requirement already satisfied: weasel<0.5.0,>=0.1.0 in c:\\users\\ajmalsha2712\\anaconda3\\lib\\site-packages (from spacy<3.8.0,>=3.7.2->en-core-web-sm==3.7.1) (0.4.1)\n",
      "Requirement already satisfied: typer<1.0.0,>=0.3.0 in c:\\users\\ajmalsha2712\\anaconda3\\lib\\site-packages (from spacy<3.8.0,>=3.7.2->en-core-web-sm==3.7.1) (0.12.4)\n",
      "Requirement already satisfied: tqdm<5.0.0,>=4.38.0 in c:\\users\\ajmalsha2712\\anaconda3\\lib\\site-packages (from spacy<3.8.0,>=3.7.2->en-core-web-sm==3.7.1) (4.65.0)\n",
      "Requirement already satisfied: requests<3.0.0,>=2.13.0 in c:\\users\\ajmalsha2712\\anaconda3\\lib\\site-packages (from spacy<3.8.0,>=3.7.2->en-core-web-sm==3.7.1) (2.31.0)\n",
      "Requirement already satisfied: pydantic!=1.8,!=1.8.1,<3.0.0,>=1.7.4 in c:\\users\\ajmalsha2712\\anaconda3\\lib\\site-packages (from spacy<3.8.0,>=3.7.2->en-core-web-sm==3.7.1) (1.10.12)\n",
      "Requirement already satisfied: jinja2 in c:\\users\\ajmalsha2712\\anaconda3\\lib\\site-packages (from spacy<3.8.0,>=3.7.2->en-core-web-sm==3.7.1) (3.1.3)\n",
      "Requirement already satisfied: setuptools in c:\\users\\ajmalsha2712\\anaconda3\\lib\\site-packages (from spacy<3.8.0,>=3.7.2->en-core-web-sm==3.7.1) (68.2.2)\n",
      "Requirement already satisfied: packaging>=20.0 in c:\\users\\ajmalsha2712\\anaconda3\\lib\\site-packages (from spacy<3.8.0,>=3.7.2->en-core-web-sm==3.7.1) (23.1)\n",
      "Requirement already satisfied: langcodes<4.0.0,>=3.2.0 in c:\\users\\ajmalsha2712\\anaconda3\\lib\\site-packages (from spacy<3.8.0,>=3.7.2->en-core-web-sm==3.7.1) (3.4.0)\n",
      "Requirement already satisfied: numpy>=1.19.0 in c:\\users\\ajmalsha2712\\anaconda3\\lib\\site-packages (from spacy<3.8.0,>=3.7.2->en-core-web-sm==3.7.1) (1.24.4)\n",
      "Requirement already satisfied: language-data>=1.2 in c:\\users\\ajmalsha2712\\anaconda3\\lib\\site-packages (from langcodes<4.0.0,>=3.2.0->spacy<3.8.0,>=3.7.2->en-core-web-sm==3.7.1) (1.2.0)\n",
      "Requirement already satisfied: typing-extensions>=4.2.0 in c:\\users\\ajmalsha2712\\anaconda3\\lib\\site-packages (from pydantic!=1.8,!=1.8.1,<3.0.0,>=1.7.4->spacy<3.8.0,>=3.7.2->en-core-web-sm==3.7.1) (4.9.0)\n",
      "Requirement already satisfied: charset-normalizer<4,>=2 in c:\\users\\ajmalsha2712\\anaconda3\\lib\\site-packages (from requests<3.0.0,>=2.13.0->spacy<3.8.0,>=3.7.2->en-core-web-sm==3.7.1) (2.0.4)\n",
      "Requirement already satisfied: idna<4,>=2.5 in c:\\users\\ajmalsha2712\\anaconda3\\lib\\site-packages (from requests<3.0.0,>=2.13.0->spacy<3.8.0,>=3.7.2->en-core-web-sm==3.7.1) (3.4)\n",
      "Requirement already satisfied: urllib3<3,>=1.21.1 in c:\\users\\ajmalsha2712\\anaconda3\\lib\\site-packages (from requests<3.0.0,>=2.13.0->spacy<3.8.0,>=3.7.2->en-core-web-sm==3.7.1) (2.0.7)\n",
      "Requirement already satisfied: certifi>=2017.4.17 in c:\\users\\ajmalsha2712\\anaconda3\\lib\\site-packages (from requests<3.0.0,>=2.13.0->spacy<3.8.0,>=3.7.2->en-core-web-sm==3.7.1) (2024.7.4)\n",
      "Requirement already satisfied: blis<0.8.0,>=0.7.8 in c:\\users\\ajmalsha2712\\anaconda3\\lib\\site-packages (from thinc<8.3.0,>=8.2.2->spacy<3.8.0,>=3.7.2->en-core-web-sm==3.7.1) (0.7.11)\n",
      "Requirement already satisfied: confection<1.0.0,>=0.0.1 in c:\\users\\ajmalsha2712\\anaconda3\\lib\\site-packages (from thinc<8.3.0,>=8.2.2->spacy<3.8.0,>=3.7.2->en-core-web-sm==3.7.1) (0.1.5)\n",
      "Requirement already satisfied: colorama in c:\\users\\ajmalsha2712\\anaconda3\\lib\\site-packages (from tqdm<5.0.0,>=4.38.0->spacy<3.8.0,>=3.7.2->en-core-web-sm==3.7.1) (0.4.6)\n",
      "Requirement already satisfied: click>=8.0.0 in c:\\users\\ajmalsha2712\\anaconda3\\lib\\site-packages (from typer<1.0.0,>=0.3.0->spacy<3.8.0,>=3.7.2->en-core-web-sm==3.7.1) (8.1.7)\n",
      "Requirement already satisfied: shellingham>=1.3.0 in c:\\users\\ajmalsha2712\\anaconda3\\lib\\site-packages (from typer<1.0.0,>=0.3.0->spacy<3.8.0,>=3.7.2->en-core-web-sm==3.7.1) (1.5.4)\n",
      "Requirement already satisfied: rich>=10.11.0 in c:\\users\\ajmalsha2712\\anaconda3\\lib\\site-packages (from typer<1.0.0,>=0.3.0->spacy<3.8.0,>=3.7.2->en-core-web-sm==3.7.1) (13.3.5)\n",
      "Requirement already satisfied: cloudpathlib<1.0.0,>=0.7.0 in c:\\users\\ajmalsha2712\\anaconda3\\lib\\site-packages (from weasel<0.5.0,>=0.1.0->spacy<3.8.0,>=3.7.2->en-core-web-sm==3.7.1) (0.18.1)\n",
      "Requirement already satisfied: smart-open<8.0.0,>=5.2.1 in c:\\users\\ajmalsha2712\\anaconda3\\lib\\site-packages (from weasel<0.5.0,>=0.1.0->spacy<3.8.0,>=3.7.2->en-core-web-sm==3.7.1) (5.2.1)\n",
      "Requirement already satisfied: MarkupSafe>=2.0 in c:\\users\\ajmalsha2712\\anaconda3\\lib\\site-packages (from jinja2->spacy<3.8.0,>=3.7.2->en-core-web-sm==3.7.1) (2.1.3)\n",
      "Requirement already satisfied: marisa-trie>=0.7.7 in c:\\users\\ajmalsha2712\\anaconda3\\lib\\site-packages (from language-data>=1.2->langcodes<4.0.0,>=3.2.0->spacy<3.8.0,>=3.7.2->en-core-web-sm==3.7.1) (1.2.0)\n",
      "Requirement already satisfied: markdown-it-py<3.0.0,>=2.2.0 in c:\\users\\ajmalsha2712\\anaconda3\\lib\\site-packages (from rich>=10.11.0->typer<1.0.0,>=0.3.0->spacy<3.8.0,>=3.7.2->en-core-web-sm==3.7.1) (2.2.0)\n",
      "Requirement already satisfied: pygments<3.0.0,>=2.13.0 in c:\\users\\ajmalsha2712\\anaconda3\\lib\\site-packages (from rich>=10.11.0->typer<1.0.0,>=0.3.0->spacy<3.8.0,>=3.7.2->en-core-web-sm==3.7.1) (2.15.1)\n",
      "Requirement already satisfied: mdurl~=0.1 in c:\\users\\ajmalsha2712\\anaconda3\\lib\\site-packages (from markdown-it-py<3.0.0,>=2.2.0->rich>=10.11.0->typer<1.0.0,>=0.3.0->spacy<3.8.0,>=3.7.2->en-core-web-sm==3.7.1) (0.1.0)\n",
      "Installing collected packages: en-core-web-sm\n",
      "Successfully installed en-core-web-sm-3.7.1\n",
      "\u001b[38;5;2m[+] Download and installation successful\u001b[0m\n",
      "You can now load the package via spacy.load('en_core_web_sm')\n"
     ]
    }
   ],
   "source": [
    "!pip install spacy\n",
    "!python -m spacy download en_core_web_sm\n"
   ]
  },
  {
   "cell_type": "code",
   "execution_count": 138,
   "id": "1f942388-edda-4866-a5b3-5e83984fe6ee",
   "metadata": {},
   "outputs": [
    {
     "name": "stdout",
     "output_type": "stream",
     "text": [
      "Apple ORG\n",
      "U.K. GPE\n",
      "$1 billion MONEY\n",
      "Elon Musk PERSON\n"
     ]
    }
   ],
   "source": [
    "import spacy\n",
    "\n",
    "# Load the pre-trained spaCy model\n",
    "nlp = spacy.load('en_core_web_sm')\n",
    "\n",
    "# Example text\n",
    "text = \"Apple is looking at buying U.K. startup for $1 billion. Elon Musk is the CEO of SpaceX.\"\n",
    "\n",
    "# Process the text using the spaCy model\n",
    "doc = nlp(text)\n",
    "\n",
    "# Extract and print the named entities\n",
    "for ent in doc.ents:\n",
    "    print(ent.text, ent.label_)\n"
   ]
  },
  {
   "cell_type": "markdown",
   "id": "d38aa975-bc0f-4ea6-b842-1d311b8bdf60",
   "metadata": {},
   "source": [
    "# Unigrams (1-grams):\n",
    "Unigrams are individual words in a text.\n",
    "They provide basic information about the vocabulary and word frequencies.\n",
    "Example: “apple,” “is,” “looking,” etc.\n",
    "# Bigrams (2-grams):\n",
    "Bigrams consist of pairs of consecutive words.\n",
    "They capture some context and are useful for tasks like language modeling and part-of-speech tagging.\n",
    "Example: “Apple is,” “is looking,” “looking at,” etc.\n",
    "# Trigrams (3-grams):\n",
    "Trigrams consist of three consecutive words.\n",
    "They provide more context than bigrams and are commonly used in language modeling, machine translation, and text generation.\n",
    "Example: “Apple is looking,” “is looking at,” “looking at buying,” etc.\n",
    "# N-grams (Generalized):\n",
    "N-grams can be of any length (not just unigrams, bigrams, or trigrams).\n",
    "They help capture longer-range dependencies in text.\n",
    "Example: 4-grams (“Apple is looking at”), 5-grams (“is looking at buying”), etc.\n",
    "\n",
    "\n",
    "In practice, NLP models often use a combination of unigrams, bigrams, and trigrams to understand context and predict the next word in a sequence. "
   ]
  },
  {
   "cell_type": "code",
   "execution_count": null,
   "id": "c71f41bd-f86d-4c3d-9f93-4580d71a9d42",
   "metadata": {},
   "outputs": [],
   "source": []
  }
 ],
 "metadata": {
  "kernelspec": {
   "display_name": "Python 3 (ipykernel)",
   "language": "python",
   "name": "python3"
  },
  "language_info": {
   "codemirror_mode": {
    "name": "ipython",
    "version": 3
   },
   "file_extension": ".py",
   "mimetype": "text/x-python",
   "name": "python",
   "nbconvert_exporter": "python",
   "pygments_lexer": "ipython3",
   "version": "3.11.7"
  }
 },
 "nbformat": 4,
 "nbformat_minor": 5
}
