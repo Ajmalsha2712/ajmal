{
 "cells": [
  {
   "cell_type": "markdown",
   "id": "994d54f1-9a47-4c96-af73-bb562e9e5dc6",
   "metadata": {},
   "source": [
    "# read in data"
   ]
  },
  {
   "cell_type": "code",
   "execution_count": 7,
   "id": "97008dcb-9daa-4ad7-a02c-2b47f746780a",
   "metadata": {},
   "outputs": [],
   "source": [
    "import pandas as pd\n",
    "import numpy as np\n",
    "import matplotlib.pyplot as plt\n",
    "import seaborn as sn"
   ]
  },
  {
   "cell_type": "code",
   "execution_count": 8,
   "id": "920cf14e-9c93-42af-9ab0-db41cff1dfa7",
   "metadata": {},
   "outputs": [
    {
     "data": {
      "text/html": [
       "<div>\n",
       "<style scoped>\n",
       "    .dataframe tbody tr th:only-of-type {\n",
       "        vertical-align: middle;\n",
       "    }\n",
       "\n",
       "    .dataframe tbody tr th {\n",
       "        vertical-align: top;\n",
       "    }\n",
       "\n",
       "    .dataframe thead th {\n",
       "        text-align: right;\n",
       "    }\n",
       "</style>\n",
       "<table border=\"1\" class=\"dataframe\">\n",
       "  <thead>\n",
       "    <tr style=\"text-align: right;\">\n",
       "      <th></th>\n",
       "      <th>text</th>\n",
       "      <th>label</th>\n",
       "      <th>prompt_name</th>\n",
       "      <th>source</th>\n",
       "      <th>RDizzl3_seven</th>\n",
       "    </tr>\n",
       "  </thead>\n",
       "  <tbody>\n",
       "    <tr>\n",
       "      <th>0</th>\n",
       "      <td>Phones\\n\\nModern humans today are always on th...</td>\n",
       "      <td>0</td>\n",
       "      <td>Phones and driving</td>\n",
       "      <td>persuade_corpus</td>\n",
       "      <td>False</td>\n",
       "    </tr>\n",
       "    <tr>\n",
       "      <th>1</th>\n",
       "      <td>This essay will explain if drivers should or s...</td>\n",
       "      <td>0</td>\n",
       "      <td>Phones and driving</td>\n",
       "      <td>persuade_corpus</td>\n",
       "      <td>False</td>\n",
       "    </tr>\n",
       "    <tr>\n",
       "      <th>2</th>\n",
       "      <td>Driving while the use of cellular devices\\n\\nT...</td>\n",
       "      <td>0</td>\n",
       "      <td>Phones and driving</td>\n",
       "      <td>persuade_corpus</td>\n",
       "      <td>False</td>\n",
       "    </tr>\n",
       "    <tr>\n",
       "      <th>3</th>\n",
       "      <td>Phones &amp; Driving\\n\\nDrivers should not be able...</td>\n",
       "      <td>0</td>\n",
       "      <td>Phones and driving</td>\n",
       "      <td>persuade_corpus</td>\n",
       "      <td>False</td>\n",
       "    </tr>\n",
       "    <tr>\n",
       "      <th>4</th>\n",
       "      <td>Cell Phone Operation While Driving\\n\\nThe abil...</td>\n",
       "      <td>0</td>\n",
       "      <td>Phones and driving</td>\n",
       "      <td>persuade_corpus</td>\n",
       "      <td>False</td>\n",
       "    </tr>\n",
       "    <tr>\n",
       "      <th>...</th>\n",
       "      <td>...</td>\n",
       "      <td>...</td>\n",
       "      <td>...</td>\n",
       "      <td>...</td>\n",
       "      <td>...</td>\n",
       "    </tr>\n",
       "    <tr>\n",
       "      <th>44863</th>\n",
       "      <td>Dear Senator,\\n\\nI am writing to you today to ...</td>\n",
       "      <td>1</td>\n",
       "      <td>Does the electoral college work?</td>\n",
       "      <td>kingki19_palm</td>\n",
       "      <td>True</td>\n",
       "    </tr>\n",
       "    <tr>\n",
       "      <th>44864</th>\n",
       "      <td>Dear Senator,\\n\\nI am writing to you today to ...</td>\n",
       "      <td>1</td>\n",
       "      <td>Does the electoral college work?</td>\n",
       "      <td>kingki19_palm</td>\n",
       "      <td>True</td>\n",
       "    </tr>\n",
       "    <tr>\n",
       "      <th>44865</th>\n",
       "      <td>Dear Senator,\\n\\nI am writing to you today to ...</td>\n",
       "      <td>1</td>\n",
       "      <td>Does the electoral college work?</td>\n",
       "      <td>kingki19_palm</td>\n",
       "      <td>True</td>\n",
       "    </tr>\n",
       "    <tr>\n",
       "      <th>44866</th>\n",
       "      <td>Dear Senator,\\n\\nI am writing to you today to ...</td>\n",
       "      <td>1</td>\n",
       "      <td>Does the electoral college work?</td>\n",
       "      <td>kingki19_palm</td>\n",
       "      <td>True</td>\n",
       "    </tr>\n",
       "    <tr>\n",
       "      <th>44867</th>\n",
       "      <td>Dear Senator,\\n\\nI am writing to you today to ...</td>\n",
       "      <td>1</td>\n",
       "      <td>Does the electoral college work?</td>\n",
       "      <td>kingki19_palm</td>\n",
       "      <td>True</td>\n",
       "    </tr>\n",
       "  </tbody>\n",
       "</table>\n",
       "<p>44868 rows × 5 columns</p>\n",
       "</div>"
      ],
      "text/plain": [
       "                                                    text  label  \\\n",
       "0      Phones\\n\\nModern humans today are always on th...      0   \n",
       "1      This essay will explain if drivers should or s...      0   \n",
       "2      Driving while the use of cellular devices\\n\\nT...      0   \n",
       "3      Phones & Driving\\n\\nDrivers should not be able...      0   \n",
       "4      Cell Phone Operation While Driving\\n\\nThe abil...      0   \n",
       "...                                                  ...    ...   \n",
       "44863  Dear Senator,\\n\\nI am writing to you today to ...      1   \n",
       "44864  Dear Senator,\\n\\nI am writing to you today to ...      1   \n",
       "44865  Dear Senator,\\n\\nI am writing to you today to ...      1   \n",
       "44866  Dear Senator,\\n\\nI am writing to you today to ...      1   \n",
       "44867  Dear Senator,\\n\\nI am writing to you today to ...      1   \n",
       "\n",
       "                            prompt_name           source  RDizzl3_seven  \n",
       "0                    Phones and driving  persuade_corpus          False  \n",
       "1                    Phones and driving  persuade_corpus          False  \n",
       "2                    Phones and driving  persuade_corpus          False  \n",
       "3                    Phones and driving  persuade_corpus          False  \n",
       "4                    Phones and driving  persuade_corpus          False  \n",
       "...                                 ...              ...            ...  \n",
       "44863  Does the electoral college work?    kingki19_palm           True  \n",
       "44864  Does the electoral college work?    kingki19_palm           True  \n",
       "44865  Does the electoral college work?    kingki19_palm           True  \n",
       "44866  Does the electoral college work?    kingki19_palm           True  \n",
       "44867  Does the electoral college work?    kingki19_palm           True  \n",
       "\n",
       "[44868 rows x 5 columns]"
      ]
     },
     "execution_count": 8,
     "metadata": {},
     "output_type": "execute_result"
    }
   ],
   "source": [
    "data=pd.read_csv(\"train.csv\")\n",
    "data"
   ]
  },
  {
   "cell_type": "code",
   "execution_count": 9,
   "id": "7b0d28e8-b26b-4acc-9185-f95f9aa9ba8c",
   "metadata": {},
   "outputs": [],
   "source": [
    "data=data.drop(columns=['prompt_name','source','RDizzl3_seven'])"
   ]
  },
  {
   "cell_type": "code",
   "execution_count": 10,
   "id": "a7647f97-7528-4386-87fa-dde1871e2b3a",
   "metadata": {
    "scrolled": true
   },
   "outputs": [
    {
     "data": {
      "text/html": [
       "<div>\n",
       "<style scoped>\n",
       "    .dataframe tbody tr th:only-of-type {\n",
       "        vertical-align: middle;\n",
       "    }\n",
       "\n",
       "    .dataframe tbody tr th {\n",
       "        vertical-align: top;\n",
       "    }\n",
       "\n",
       "    .dataframe thead th {\n",
       "        text-align: right;\n",
       "    }\n",
       "</style>\n",
       "<table border=\"1\" class=\"dataframe\">\n",
       "  <thead>\n",
       "    <tr style=\"text-align: right;\">\n",
       "      <th></th>\n",
       "      <th>text</th>\n",
       "      <th>label</th>\n",
       "    </tr>\n",
       "  </thead>\n",
       "  <tbody>\n",
       "    <tr>\n",
       "      <th>0</th>\n",
       "      <td>Phones\\n\\nModern humans today are always on th...</td>\n",
       "      <td>0</td>\n",
       "    </tr>\n",
       "    <tr>\n",
       "      <th>1</th>\n",
       "      <td>This essay will explain if drivers should or s...</td>\n",
       "      <td>0</td>\n",
       "    </tr>\n",
       "    <tr>\n",
       "      <th>2</th>\n",
       "      <td>Driving while the use of cellular devices\\n\\nT...</td>\n",
       "      <td>0</td>\n",
       "    </tr>\n",
       "    <tr>\n",
       "      <th>3</th>\n",
       "      <td>Phones &amp; Driving\\n\\nDrivers should not be able...</td>\n",
       "      <td>0</td>\n",
       "    </tr>\n",
       "    <tr>\n",
       "      <th>4</th>\n",
       "      <td>Cell Phone Operation While Driving\\n\\nThe abil...</td>\n",
       "      <td>0</td>\n",
       "    </tr>\n",
       "    <tr>\n",
       "      <th>...</th>\n",
       "      <td>...</td>\n",
       "      <td>...</td>\n",
       "    </tr>\n",
       "    <tr>\n",
       "      <th>44863</th>\n",
       "      <td>Dear Senator,\\n\\nI am writing to you today to ...</td>\n",
       "      <td>1</td>\n",
       "    </tr>\n",
       "    <tr>\n",
       "      <th>44864</th>\n",
       "      <td>Dear Senator,\\n\\nI am writing to you today to ...</td>\n",
       "      <td>1</td>\n",
       "    </tr>\n",
       "    <tr>\n",
       "      <th>44865</th>\n",
       "      <td>Dear Senator,\\n\\nI am writing to you today to ...</td>\n",
       "      <td>1</td>\n",
       "    </tr>\n",
       "    <tr>\n",
       "      <th>44866</th>\n",
       "      <td>Dear Senator,\\n\\nI am writing to you today to ...</td>\n",
       "      <td>1</td>\n",
       "    </tr>\n",
       "    <tr>\n",
       "      <th>44867</th>\n",
       "      <td>Dear Senator,\\n\\nI am writing to you today to ...</td>\n",
       "      <td>1</td>\n",
       "    </tr>\n",
       "  </tbody>\n",
       "</table>\n",
       "<p>44868 rows × 2 columns</p>\n",
       "</div>"
      ],
      "text/plain": [
       "                                                    text  label\n",
       "0      Phones\\n\\nModern humans today are always on th...      0\n",
       "1      This essay will explain if drivers should or s...      0\n",
       "2      Driving while the use of cellular devices\\n\\nT...      0\n",
       "3      Phones & Driving\\n\\nDrivers should not be able...      0\n",
       "4      Cell Phone Operation While Driving\\n\\nThe abil...      0\n",
       "...                                                  ...    ...\n",
       "44863  Dear Senator,\\n\\nI am writing to you today to ...      1\n",
       "44864  Dear Senator,\\n\\nI am writing to you today to ...      1\n",
       "44865  Dear Senator,\\n\\nI am writing to you today to ...      1\n",
       "44866  Dear Senator,\\n\\nI am writing to you today to ...      1\n",
       "44867  Dear Senator,\\n\\nI am writing to you today to ...      1\n",
       "\n",
       "[44868 rows x 2 columns]"
      ]
     },
     "execution_count": 10,
     "metadata": {},
     "output_type": "execute_result"
    }
   ],
   "source": [
    "data"
   ]
  },
  {
   "cell_type": "markdown",
   "id": "9545f7d5-3806-4472-bb76-c8d780ccf48a",
   "metadata": {},
   "source": [
    "# about data"
   ]
  },
  {
   "cell_type": "code",
   "execution_count": 12,
   "id": "9ecece75-f4c4-43a5-a802-d6604c47a50f",
   "metadata": {},
   "outputs": [
    {
     "name": "stdout",
     "output_type": "stream",
     "text": [
      "<class 'pandas.core.frame.DataFrame'>\n",
      "RangeIndex: 44868 entries, 0 to 44867\n",
      "Data columns (total 2 columns):\n",
      " #   Column  Non-Null Count  Dtype \n",
      "---  ------  --------------  ----- \n",
      " 0   text    44868 non-null  object\n",
      " 1   label   44868 non-null  int64 \n",
      "dtypes: int64(1), object(1)\n",
      "memory usage: 701.2+ KB\n"
     ]
    }
   ],
   "source": [
    "data.info()"
   ]
  },
  {
   "cell_type": "code",
   "execution_count": 13,
   "id": "5a232223-daea-4b51-9ccc-cb7fa7514d15",
   "metadata": {},
   "outputs": [
    {
     "data": {
      "text/plain": [
       "text     0\n",
       "label    0\n",
       "dtype: int64"
      ]
     },
     "execution_count": 13,
     "metadata": {},
     "output_type": "execute_result"
    }
   ],
   "source": [
    "data.isnull().sum()"
   ]
  },
  {
   "cell_type": "code",
   "execution_count": 14,
   "id": "54960700-8347-4b5a-aed1-60ec800b6a9c",
   "metadata": {},
   "outputs": [
    {
     "data": {
      "text/plain": [
       "(44868, 2)"
      ]
     },
     "execution_count": 14,
     "metadata": {},
     "output_type": "execute_result"
    }
   ],
   "source": [
    "data.shape"
   ]
  },
  {
   "cell_type": "code",
   "execution_count": 15,
   "id": "9f91c12f-2881-4006-bee7-433e5f5dfb18",
   "metadata": {},
   "outputs": [
    {
     "data": {
      "text/plain": [
       "0    27371\n",
       "1    17497\n",
       "Name: label, dtype: int64"
      ]
     },
     "execution_count": 15,
     "metadata": {},
     "output_type": "execute_result"
    }
   ],
   "source": [
    " data['label'].value_counts()"
   ]
  },
  {
   "cell_type": "markdown",
   "id": "d410094a-08b5-4704-8b74-41d7fccc4af3",
   "metadata": {},
   "source": [
    "# Building model"
   ]
  },
  {
   "cell_type": "code",
   "execution_count": 17,
   "id": "aee09df3-e392-44e8-a7af-888178352bec",
   "metadata": {},
   "outputs": [
    {
     "data": {
      "text/plain": [
       "<Axes: >"
      ]
     },
     "execution_count": 17,
     "metadata": {},
     "output_type": "execute_result"
    },
    {
     "data": {
      "image/png": "[encoded data removed]",
      "text/plain": [
       "<Figure size 640x480 with 1 Axes>"
      ]
     },
     "metadata": {},
     "output_type": "display_data"
    }
   ],
   "source": [
    " data['label'].value_counts().plot(kind='bar')"
   ]
  },
  {
   "cell_type": "code",
   "execution_count": 18,
   "id": "706e7c6a-e9e0-412a-ab22-a117afae6b42",
   "metadata": {},
   "outputs": [
    {
     "data": {
      "text/plain": [
       "Text(0.5, 1.0, 'label distribution')"
      ]
     },
     "execution_count": 18,
     "metadata": {},
     "output_type": "execute_result"
    },
    {
     "data": {
      "image/png": "[encoded data removed]",
      "text/plain": [
       "<Figure size 1000x600 with 1 Axes>"
      ]
     },
     "metadata": {},
     "output_type": "display_data"
    }
   ],
   "source": [
    "plt.figure(figsize=(10,6))\n",
    "colors=['red','green']\n",
    "data['label'].value_counts().plot(kind='pie',autopct='%.1f%%',shadow=True,colors=colors,startangle=45,explode=(0,0.09))\n",
    "plt.title('label distribution')"
   ]
  },
  {
   "cell_type": "markdown",
   "id": "b33f1f98-10e9-48aa-b2cf-640914bb22c7",
   "metadata": {},
   "source": [
    "# Cleaning data"
   ]
  },
  {
   "cell_type": "code",
   "execution_count": 20,
   "id": "335329b2-bd9f-4242-b304-826116e5dce9",
   "metadata": {},
   "outputs": [
    {
     "data": {
      "text/plain": [
       "'Is Driving With Cellphones Dangerous?\\n\\nMany people around the world own and use cellphones. Most of these People also own and operate a motor vehicle. But is it hazardous to use both at the same time? Operating both a cellphone and a vehicle is dangerous and is one of the causes of death on the road. Drivers should be allowed to have their phones in their car but if they are caught using them while behind the wheel, they would get a fine penalty. In the U.S, Different states have different rules and fines. But what can we do to prevent tragedies from happening?\\n\\nDriving while using a cellphone is a very unsafe and irresponsible act. According to the National Highway Traffic Safety Administration (NHTSA), \"Using a cell phone while driving creates enormous potential for deaths and injuries on U.S. roads. In 2017 alone, 3,166 people were killed in motor vehicle crashes involving distracted drivers.\" A large amount of people have been injured and even killed by irresponsible drivers who couldn\\'t wait to send a text or read a message. But some states are taking an act upon this.\\n\\nMost states in U.S. have prohibited cellphone use to a certain extent. In an article by the National Conference of State Legislatures, the author states \"20 states... prohibit all drivers from using hand-held devices while driving. No state bans all cellphone use for all drivers, but 38 states and D.C. ban all cellphone use by novice or teen drivers, and 21 states and D.C. prohibit any cellphone use for school bus drivers. 48 states ban text messaging for all drivers.\" This demonstrates that states are taking action on the use of cellphones while driving.\\n\\nAccidents that result in fatality due to distracted drivers using their phones have become more and more frequent. But there are things that we can do. According to the AAA Exchange, the author provides a very good tip on how to prevent the use of cellphones while driving. The author states \"\\n\\nPut aside your electronic distractions. Don\\'t use cell phones while driving - handheld or hands-free - except in absolute emergencies. Never use text messaging, email functions, video games or the internet with a wireless device, including those built into the vehicle, while driving...If another activity demands your attention, instead of trying to attempt it while driving, pull off the road and stop your vehicle in a safe place. To avoid temptation, power down or stow devices before heading out.\" These are very helpful tips because they aid in avoiding cellphone use.\\n\\nMost people nowadays own both a cellular device and a motor vehicle. But it is very risky to operate both at the same time. Distracted driving is a major cause of deaths in the roads of the U.S. Phones should be allowed in a vehicle while it is being driven but should not be used. Different states have different rules and fines for people who are caught using a phone while they are driving. And there are things that we as drivers can do to prevent accidents. It is easier to wait and then respond to a message than to answer it while driving and risking your life and someone elses.\\n\\nWork Cited\\n\\nAndrew. currin. ctr@dot. gov. \"Distracted Driving.\" NHTSA, 29 May 2019, https://www. nhtsa. gov/risky-driving/distracted-driving.\\n\\nEssex, Amanda. \"Cellular Phone Use and Texting While Driving Laws.\" Cellular Phone Use and Texting While Driving Laws, 29 May 2019, http://www. ncsl. org/research/transportation/cellular-phone-use-and-texting-while-driving-laws. aspx.\\n\\n\"AAA Exchange.\" Tips for Preventing Distracted Driving, https://exchange. aaa. com/safety/distracted-driving/tips-for-preventing-distracted-driving/#.XdU-fFe6OUk.            '"
      ]
     },
     "execution_count": 20,
     "metadata": {},
     "output_type": "execute_result"
    }
   ],
   "source": [
    "data['text'][999]"
   ]
  },
  {
   "cell_type": "code",
   "execution_count": 21,
   "id": "57deb26c-e9bd-4c2c-a5dc-dc876ee1c854",
   "metadata": {},
   "outputs": [],
   "source": [
    "import re\n",
    "import nltk \n",
    "from nltk.stem.porter import PorterStemmer\n",
    "from nltk.corpus import stopwords "
   ]
  },
  {
   "cell_type": "code",
   "execution_count": 23,
   "id": "c1ede9ae-7d62-48a7-b913-658da1dac6e2",
   "metadata": {},
   "outputs": [],
   "source": [
    "stopwords_set = set(stopwords.words('english'))\n",
    "emoji_pattern = re.compile('(?::|;|=)(?:-)?(?:\\)|\\(|D|P)')\n",
    "def preprocessing(text):\n",
    "    text=re.sub('<[^>]*>', '',text)\n",
    "    emojis=emoji_pattern.findall(text)\n",
    "    text=re.sub('[\\W+]',' ',text.lower()) +' '.join(emojis).replace('-', '')\n",
    "\n",
    "    prter=PorterStemmer()\n",
    "    text=[prter.stem(word) for word in text.split() if word not in stopwords_set]\n",
    "\n",
    "    return \" \".join(text)"
   ]
  },
  {
   "cell_type": "code",
   "execution_count": 39,
   "id": "207732c8-8337-40e9-822b-60e139d4dbcf",
   "metadata": {},
   "outputs": [],
   "source": [
    "data['text']=data['text'].apply(lambda x: preprocessing(x))"
   ]
  },
  {
   "cell_type": "code",
   "execution_count": 40,
   "id": "533a5329-b9c2-42b4-a3d2-1bc454d26f78",
   "metadata": {},
   "outputs": [
    {
     "data": {
      "text/plain": [
       "0        phone modern human today alway phone alway pho...\n",
       "1        essay explain driver abl use electron devic op...\n",
       "2        drive use cellular devic today societi thought...\n",
       "3        phone drive driver abl use phone oper vehicl d...\n",
       "4        cell phone oper drive abil stay connect peopl ...\n",
       "                               ...                        \n",
       "44863    dear senat write today express view elector co...\n",
       "44864    dear senat write today express support abolish...\n",
       "44865    dear senat write today express strong support ...\n",
       "44866    dear senat write today express strong support ...\n",
       "44867    dear senat write today express strong support ...\n",
       "Name: text, Length: 44868, dtype: object"
      ]
     },
     "execution_count": 40,
     "metadata": {},
     "output_type": "execute_result"
    }
   ],
   "source": [
    "data['text']"
   ]
  },
  {
   "cell_type": "markdown",
   "id": "85d7e947-4e89-4280-98e9-a5d91c2a7e61",
   "metadata": {},
   "source": [
    "# TF-IDF Vertorizer"
   ]
  },
  {
   "cell_type": "code",
   "execution_count": 51,
   "id": "b83598ec-727c-4bb9-8340-da0b2123c7b4",
   "metadata": {},
   "outputs": [],
   "source": [
    "from sklearn.feature_extraction.text import TfidfVectorizer\n",
    "\n",
    "tfidf=TfidfVectorizer(strip_accents=None,lowercase=False,preprocessor=None,use_idf=True,norm='l2',smooth_idf=True)\n",
    "y=data.label.values\n",
    "x=tfidf.fit_transform(data.text)"
   ]
  },
  {
   "cell_type": "markdown",
   "id": "a11477c6-fbf5-4a4c-a855-4c7a9274a0fa",
   "metadata": {},
   "source": [
    "# Training Models"
   ]
  },
  {
   "cell_type": "code",
   "execution_count": 57,
   "id": "5647c506-3f7d-415e-9fff-5e6ddd478402",
   "metadata": {},
   "outputs": [],
   "source": [
    "from sklearn.model_selection import train_test_split\n",
    "xtrain,xtest,ytrain,ytest=train_test_split(x,y,random_state=1,test_size=0.5)"
   ]
  },
  {
   "cell_type": "code",
   "execution_count": 72,
   "id": "ba19a9c4-ae8a-42ae-ab12-f1155e02293a",
   "metadata": {},
   "outputs": [
    {
     "data": {
      "text/plain": [
       "array([0, 0, 0, ..., 1, 1, 0], dtype=int64)"
      ]
     },
     "execution_count": 72,
     "metadata": {},
     "output_type": "execute_result"
    }
   ],
   "source": [
    "from sklearn.linear_model import LogisticRegressionCV\n",
    "clf=LogisticRegressionCV(cv=6,scoring='accuracy',random_state=0,n_jobs=-1,max_iter=500).fit(xtrain,ytrain)\n",
    "y_pred=clf.predict(xtest)\n",
    "y_pred"
   ]
  },
  {
   "cell_type": "code",
   "execution_count": 69,
   "id": "cfb88dff-90e9-405c-9b92-6d90e14caaf8",
   "metadata": {},
   "outputs": [
    {
     "data": {
      "text/plain": [
       "array([[13689,    67],\n",
       "       [  116,  8562]], dtype=int64)"
      ]
     },
     "execution_count": 69,
     "metadata": {},
     "output_type": "execute_result"
    }
   ],
   "source": [
    "# from sklearn.metrics import confusion_matrix\n",
    "# cm=confusion_matrix(ytest,y_pred)\n",
    "# cm"
   ]
  },
  {
   "cell_type": "markdown",
   "id": "3c0c1a2d-1480-419e-ad66-7fd68a2942b4",
   "metadata": {},
   "source": [
    "# Accuracy"
   ]
  },
  {
   "cell_type": "code",
   "execution_count": 62,
   "id": "097c4ffa-e570-4792-9f8c-555a0ebc0d9f",
   "metadata": {},
   "outputs": [
    {
     "name": "stdout",
     "output_type": "stream",
     "text": [
      "Accuracy: 0.9918427387001872\n"
     ]
    }
   ],
   "source": [
    "from sklearn import metrics\n",
    "\n",
    "print(\"Accuracy:\",metrics.accuracy_score(ytest,y_pred))"
   ]
  }
 ],
 "metadata": {
  "kernelspec": {
   "display_name": "Python 3 (ipykernel)",
   "language": "python",
   "name": "python3"
  },
  "language_info": {
   "codemirror_mode": {
    "name": "ipython",
    "version": 3
   },
   "file_extension": ".py",
   "mimetype": "text/x-python",
   "name": "python",
   "nbconvert_exporter": "python",
   "pygments_lexer": "ipython3",
   "version": "3.11.7"
  }
 },
 "nbformat": 4,
 "nbformat_minor": 5
}
